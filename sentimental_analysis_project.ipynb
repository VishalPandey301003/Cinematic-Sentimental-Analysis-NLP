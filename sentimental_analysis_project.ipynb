{
 "cells": [
  {
   "cell_type": "markdown",
   "id": "321d1b78-7ea0-432e-892b-2ff9e2dc8abc",
   "metadata": {},
   "source": [
    "### Cinematic Sentiments: Analyzing Movie Reviews Using NLP"
   ]
  },
  {
   "cell_type": "markdown",
   "id": "72f29919-6ffc-48a9-adad-b42c9ac8a69a",
   "metadata": {},
   "source": [
    "#### Read and Observe the data"
   ]
  },
  {
   "cell_type": "code",
   "execution_count": 1,
   "id": "2b05588b-f988-4a44-8d73-0ffee74c8c3d",
   "metadata": {},
   "outputs": [],
   "source": [
    "import pandas as pd\n",
    "pd.set_option(\"display.max_colwidth\", 200)"
   ]
  },
  {
   "cell_type": "code",
   "execution_count": 2,
   "id": "a7cabcbb-3fd3-4865-973d-b86abe695e22",
   "metadata": {},
   "outputs": [],
   "source": [
    "Movie_df = pd.read_csv('movie.csv')"
   ]
  },
  {
   "cell_type": "code",
   "execution_count": 3,
   "id": "adec0406-32cb-4a51-b21a-c86f5848baf6",
   "metadata": {},
   "outputs": [],
   "source": [
    "indices_to_drop = range(15000, 50000)\n",
    "Movie_df1 = Movie_df.drop(indices_to_drop)"
   ]
  },
  {
   "cell_type": "code",
   "execution_count": 4,
   "id": "1c95a097-1b0b-47f2-9fd2-88493022ada0",
   "metadata": {},
   "outputs": [
    {
     "data": {
      "text/html": [
       "<div>\n",
       "<style scoped>\n",
       "    .dataframe tbody tr th:only-of-type {\n",
       "        vertical-align: middle;\n",
       "    }\n",
       "\n",
       "    .dataframe tbody tr th {\n",
       "        vertical-align: top;\n",
       "    }\n",
       "\n",
       "    .dataframe thead th {\n",
       "        text-align: right;\n",
       "    }\n",
       "</style>\n",
       "<table border=\"1\" class=\"dataframe\">\n",
       "  <thead>\n",
       "    <tr style=\"text-align: right;\">\n",
       "      <th></th>\n",
       "      <th>review</th>\n",
       "      <th>sentiment</th>\n",
       "    </tr>\n",
       "  </thead>\n",
       "  <tbody>\n",
       "    <tr>\n",
       "      <th>0</th>\n",
       "      <td>One of the other reviewers has mentioned that after watching just 1 Oz episode you'll be hooked. They are right, as this is exactly what happened with me.&lt;br /&gt;&lt;br /&gt;The first thing that struck me...</td>\n",
       "      <td>1</td>\n",
       "    </tr>\n",
       "    <tr>\n",
       "      <th>1</th>\n",
       "      <td>A wonderful little production. &lt;br /&gt;&lt;br /&gt;The filming technique is very unassuming- very old-time-BBC fashion and gives a comforting, and sometimes discomforting, sense of realism to the entire p...</td>\n",
       "      <td>1</td>\n",
       "    </tr>\n",
       "    <tr>\n",
       "      <th>2</th>\n",
       "      <td>I thought this was a wonderful way to spend time on a too hot summer weekend, sitting in the air conditioned theater and watching a light-hearted comedy. The plot is simplistic, but the dialogue i...</td>\n",
       "      <td>1</td>\n",
       "    </tr>\n",
       "    <tr>\n",
       "      <th>3</th>\n",
       "      <td>Basically there's a family where a little boy (Jake) thinks there's a zombie in his closet &amp; his parents are fighting all the time.&lt;br /&gt;&lt;br /&gt;This movie is slower than a soap opera... and suddenl...</td>\n",
       "      <td>0</td>\n",
       "    </tr>\n",
       "    <tr>\n",
       "      <th>4</th>\n",
       "      <td>Petter Mattei's \"Love in the Time of Money\" is a visually stunning film to watch. Mr. Mattei offers us a vivid portrait about human relations. This is a movie that seems to be telling us what mone...</td>\n",
       "      <td>1</td>\n",
       "    </tr>\n",
       "    <tr>\n",
       "      <th>5</th>\n",
       "      <td>Probably my all-time favorite movie, a story of selflessness, sacrifice and dedication to a noble cause, but it's not preachy or boring. It just never gets old, despite my having seen it some 15 o...</td>\n",
       "      <td>1</td>\n",
       "    </tr>\n",
       "    <tr>\n",
       "      <th>6</th>\n",
       "      <td>I sure would like to see a resurrection of a up dated Seahunt series with the tech they have today it would bring back the kid excitement in me.I grew up on black and white TV and Seahunt with Gun...</td>\n",
       "      <td>1</td>\n",
       "    </tr>\n",
       "    <tr>\n",
       "      <th>7</th>\n",
       "      <td>This show was an amazing, fresh &amp; innovative idea in the 70's when it first aired. The first 7 or 8 years were brilliant, but things dropped off after that. By 1990, the show was not really funny ...</td>\n",
       "      <td>0</td>\n",
       "    </tr>\n",
       "    <tr>\n",
       "      <th>8</th>\n",
       "      <td>Encouraged by the 1 comments about this film on here I was looking forward to watching this film. Bad mistake. I've seen 950+ films and this is truly one of the worst of them - it's awful in almos...</td>\n",
       "      <td>0</td>\n",
       "    </tr>\n",
       "    <tr>\n",
       "      <th>9</th>\n",
       "      <td>If you like original gut wrenching laughter you will like this movie. If you are young or old then you will love this movie, hell even my mom liked it.&lt;br /&gt;&lt;br /&gt;Great Camp!!!</td>\n",
       "      <td>1</td>\n",
       "    </tr>\n",
       "    <tr>\n",
       "      <th>10</th>\n",
       "      <td>Phil the Alien is one of those quirky films where the humour is based around the oddness of everything rather than actual punchlines.&lt;br /&gt;&lt;br /&gt;At first it was very odd and pretty funny but as th...</td>\n",
       "      <td>0</td>\n",
       "    </tr>\n",
       "    <tr>\n",
       "      <th>11</th>\n",
       "      <td>I saw this movie when I was about 12 when it came out. I recall the scariest scene was the big bird eating men dangling helplessly from parachutes right out of the air. The horror. The horror.&lt;br ...</td>\n",
       "      <td>0</td>\n",
       "    </tr>\n",
       "    <tr>\n",
       "      <th>12</th>\n",
       "      <td>So im not a big fan of Boll's work but then again not many are. I enjoyed his movie Postal (maybe im the only one). Boll apparently bought the rights to use Far Cry long ago even before the game i...</td>\n",
       "      <td>0</td>\n",
       "    </tr>\n",
       "    <tr>\n",
       "      <th>13</th>\n",
       "      <td>The cast played Shakespeare.&lt;br /&gt;&lt;br /&gt;Shakespeare lost.&lt;br /&gt;&lt;br /&gt;I appreciate that this is trying to bring Shakespeare to the masses, but why ruin something so good.&lt;br /&gt;&lt;br /&gt;Is it because '...</td>\n",
       "      <td>0</td>\n",
       "    </tr>\n",
       "    <tr>\n",
       "      <th>14</th>\n",
       "      <td>This a fantastic movie of three prisoners who become famous. One of the actors is george clooney and I'm not a fan but this roll is not bad. Another good thing about the movie is the soundtrack (T...</td>\n",
       "      <td>1</td>\n",
       "    </tr>\n",
       "    <tr>\n",
       "      <th>15</th>\n",
       "      <td>Kind of drawn in by the erotic scenes, only to realize this was one of the most amateurish and unbelievable bits of film I've ever seen. Sort of like a high school film project. What was Rosanna A...</td>\n",
       "      <td>0</td>\n",
       "    </tr>\n",
       "    <tr>\n",
       "      <th>16</th>\n",
       "      <td>Some films just simply should not be remade. This is one of them. In and of itself it is not a bad film. But it fails to capture the flavor and the terror of the 1963 film of the same title. Liam ...</td>\n",
       "      <td>1</td>\n",
       "    </tr>\n",
       "    <tr>\n",
       "      <th>17</th>\n",
       "      <td>This movie made it into one of my top 10 most awful movies. Horrible. &lt;br /&gt;&lt;br /&gt;There wasn't a continuous minute where there wasn't a fight with one monster or another. There was no chance for a...</td>\n",
       "      <td>0</td>\n",
       "    </tr>\n",
       "    <tr>\n",
       "      <th>18</th>\n",
       "      <td>I remember this film,it was the first film i had watched at the cinema the picture was dark in places i was very nervous it was back in 74/75 my Dad took me my brother &amp; sister to Newbury cinema i...</td>\n",
       "      <td>1</td>\n",
       "    </tr>\n",
       "    <tr>\n",
       "      <th>19</th>\n",
       "      <td>An awful film! It must have been up against some real stinkers to be nominated for the Golden Globe. They've taken the story of the first famous female Renaissance painter and mangled it beyond re...</td>\n",
       "      <td>0</td>\n",
       "    </tr>\n",
       "  </tbody>\n",
       "</table>\n",
       "</div>"
      ],
      "text/plain": [
       "                                                                                                                                                                                                     review  \\\n",
       "0   One of the other reviewers has mentioned that after watching just 1 Oz episode you'll be hooked. They are right, as this is exactly what happened with me.<br /><br />The first thing that struck me...   \n",
       "1   A wonderful little production. <br /><br />The filming technique is very unassuming- very old-time-BBC fashion and gives a comforting, and sometimes discomforting, sense of realism to the entire p...   \n",
       "2   I thought this was a wonderful way to spend time on a too hot summer weekend, sitting in the air conditioned theater and watching a light-hearted comedy. The plot is simplistic, but the dialogue i...   \n",
       "3   Basically there's a family where a little boy (Jake) thinks there's a zombie in his closet & his parents are fighting all the time.<br /><br />This movie is slower than a soap opera... and suddenl...   \n",
       "4   Petter Mattei's \"Love in the Time of Money\" is a visually stunning film to watch. Mr. Mattei offers us a vivid portrait about human relations. This is a movie that seems to be telling us what mone...   \n",
       "5   Probably my all-time favorite movie, a story of selflessness, sacrifice and dedication to a noble cause, but it's not preachy or boring. It just never gets old, despite my having seen it some 15 o...   \n",
       "6   I sure would like to see a resurrection of a up dated Seahunt series with the tech they have today it would bring back the kid excitement in me.I grew up on black and white TV and Seahunt with Gun...   \n",
       "7   This show was an amazing, fresh & innovative idea in the 70's when it first aired. The first 7 or 8 years were brilliant, but things dropped off after that. By 1990, the show was not really funny ...   \n",
       "8   Encouraged by the 1 comments about this film on here I was looking forward to watching this film. Bad mistake. I've seen 950+ films and this is truly one of the worst of them - it's awful in almos...   \n",
       "9                          If you like original gut wrenching laughter you will like this movie. If you are young or old then you will love this movie, hell even my mom liked it.<br /><br />Great Camp!!!   \n",
       "10  Phil the Alien is one of those quirky films where the humour is based around the oddness of everything rather than actual punchlines.<br /><br />At first it was very odd and pretty funny but as th...   \n",
       "11  I saw this movie when I was about 12 when it came out. I recall the scariest scene was the big bird eating men dangling helplessly from parachutes right out of the air. The horror. The horror.<br ...   \n",
       "12  So im not a big fan of Boll's work but then again not many are. I enjoyed his movie Postal (maybe im the only one). Boll apparently bought the rights to use Far Cry long ago even before the game i...   \n",
       "13  The cast played Shakespeare.<br /><br />Shakespeare lost.<br /><br />I appreciate that this is trying to bring Shakespeare to the masses, but why ruin something so good.<br /><br />Is it because '...   \n",
       "14  This a fantastic movie of three prisoners who become famous. One of the actors is george clooney and I'm not a fan but this roll is not bad. Another good thing about the movie is the soundtrack (T...   \n",
       "15  Kind of drawn in by the erotic scenes, only to realize this was one of the most amateurish and unbelievable bits of film I've ever seen. Sort of like a high school film project. What was Rosanna A...   \n",
       "16  Some films just simply should not be remade. This is one of them. In and of itself it is not a bad film. But it fails to capture the flavor and the terror of the 1963 film of the same title. Liam ...   \n",
       "17  This movie made it into one of my top 10 most awful movies. Horrible. <br /><br />There wasn't a continuous minute where there wasn't a fight with one monster or another. There was no chance for a...   \n",
       "18  I remember this film,it was the first film i had watched at the cinema the picture was dark in places i was very nervous it was back in 74/75 my Dad took me my brother & sister to Newbury cinema i...   \n",
       "19  An awful film! It must have been up against some real stinkers to be nominated for the Golden Globe. They've taken the story of the first famous female Renaissance painter and mangled it beyond re...   \n",
       "\n",
       "    sentiment  \n",
       "0           1  \n",
       "1           1  \n",
       "2           1  \n",
       "3           0  \n",
       "4           1  \n",
       "5           1  \n",
       "6           1  \n",
       "7           0  \n",
       "8           0  \n",
       "9           1  \n",
       "10          0  \n",
       "11          0  \n",
       "12          0  \n",
       "13          0  \n",
       "14          1  \n",
       "15          0  \n",
       "16          1  \n",
       "17          0  \n",
       "18          1  \n",
       "19          0  "
      ]
     },
     "execution_count": 4,
     "metadata": {},
     "output_type": "execute_result"
    }
   ],
   "source": [
    "Movie_df1.head(20)"
   ]
  },
  {
   "cell_type": "code",
   "execution_count": 5,
   "id": "a699082e-a63d-407c-857a-e8172dc035ae",
   "metadata": {},
   "outputs": [
    {
     "name": "stdout",
     "output_type": "stream",
     "text": [
      "<class 'pandas.core.frame.DataFrame'>\n",
      "RangeIndex: 15000 entries, 0 to 14999\n",
      "Data columns (total 2 columns):\n",
      " #   Column     Non-Null Count  Dtype \n",
      "---  ------     --------------  ----- \n",
      " 0   review     15000 non-null  object\n",
      " 1   sentiment  15000 non-null  int64 \n",
      "dtypes: int64(1), object(1)\n",
      "memory usage: 234.5+ KB\n"
     ]
    }
   ],
   "source": [
    "Movie_df1.info()"
   ]
  },
  {
   "cell_type": "code",
   "execution_count": 6,
   "id": "a3d7f4a5-ca76-4e50-af31-0d179e456920",
   "metadata": {},
   "outputs": [
    {
     "data": {
      "text/plain": [
       "sentiment\n",
       "0    0.507267\n",
       "1    0.492733\n",
       "Name: proportion, dtype: float64"
      ]
     },
     "execution_count": 6,
     "metadata": {},
     "output_type": "execute_result"
    }
   ],
   "source": [
    "# Check for the class balance\n",
    "Movie_df1['sentiment'].value_counts(normalize=True)"
   ]
  },
  {
   "cell_type": "code",
   "execution_count": 7,
   "id": "459f07bd-1b84-4566-a463-46d55916195e",
   "metadata": {},
   "outputs": [
    {
     "data": {
      "text/plain": [
       "<Axes: xlabel='sentiment'>"
      ]
     },
     "execution_count": 7,
     "metadata": {},
     "output_type": "execute_result"
    },
    {
     "data": {
      "image/png": "[encoded data removed]",
      "text/plain": [
       "<Figure size 640x480 with 1 Axes>"
      ]
     },
     "metadata": {},
     "output_type": "display_data"
    }
   ],
   "source": [
    "# plot the label counts \n",
    "Movie_df1['sentiment'].value_counts().plot(kind='bar')"
   ]
  },
  {
   "cell_type": "markdown",
   "id": "b291e95c-e502-4d59-88d1-f2410c876d4d",
   "metadata": {},
   "source": [
    "#### Data Cleaning"
   ]
  },
  {
   "cell_type": "markdown",
   "id": "82bfc06e-1f04-4eed-8714-c744f2434a6d",
   "metadata": {},
   "source": [
    "##### clean a single text"
   ]
  },
  {
   "cell_type": "code",
   "execution_count": 8,
   "id": "cc99a73b-ec6f-4edc-95c4-16037bb21aba",
   "metadata": {},
   "outputs": [
    {
     "name": "stdout",
     "output_type": "stream",
     "text": [
      "This was the worst movie I saw at WorldFest and it also received the least amount of applause afterwards! I can only think it is receiving such recognition based on the amount of known actors in the film. It's great to see J.Beals but she's only in the movie for a few minutes. M.Parker is a much better actress than the part allowed for. The rest of the acting is hard to judge because the movie is so ridiculous and predictable. The main character is totally unsympathetic and therefore a bore to watch. There is no real emotional depth to the story. A movie revolving about an actor who can't get work doesn't feel very original to me. Nor does the development of the cop. It feels like one of many straight-to-video movies I saw back in the 90s ... And not even a good one in those standards.<br /><br />\n"
     ]
    }
   ],
   "source": [
    "raw_text = Movie_df1['review'][24]\n",
    "print(raw_text)"
   ]
  },
  {
   "cell_type": "code",
   "execution_count": 9,
   "id": "8221b24b-d2b0-45b9-b24f-98e4650e1210",
   "metadata": {},
   "outputs": [],
   "source": [
    "##import tokenizer from nltk\n",
    "from nltk.tokenize import word_tokenize"
   ]
  },
  {
   "cell_type": "code",
   "execution_count": 10,
   "id": "14dae9e7-2d5d-4ba4-aebb-302fb6ee1fda",
   "metadata": {},
   "outputs": [
    {
     "name": "stdout",
     "output_type": "stream",
     "text": [
      "['This', 'was', 'the', 'worst', 'movie', 'I', 'saw', 'at', 'WorldFest', 'and', 'it', 'also', 'received', 'the', 'least', 'amount', 'of', 'applause', 'afterwards', '!', 'I', 'can', 'only', 'think', 'it', 'is', 'receiving', 'such', 'recognition', 'based', 'on', 'the', 'amount', 'of', 'known', 'actors', 'in', 'the', 'film', '.', 'It', \"'s\", 'great', 'to', 'see', 'J.Beals', 'but', 'she', \"'s\", 'only', 'in', 'the', 'movie', 'for', 'a', 'few', 'minutes', '.', 'M.Parker', 'is', 'a', 'much', 'better', 'actress', 'than', 'the', 'part', 'allowed', 'for', '.', 'The', 'rest', 'of', 'the', 'acting', 'is', 'hard', 'to', 'judge', 'because', 'the', 'movie', 'is', 'so', 'ridiculous', 'and', 'predictable', '.', 'The', 'main', 'character', 'is', 'totally', 'unsympathetic', 'and', 'therefore', 'a', 'bore', 'to', 'watch', '.', 'There', 'is', 'no', 'real', 'emotional', 'depth', 'to', 'the', 'story', '.', 'A', 'movie', 'revolving', 'about', 'an', 'actor', 'who', 'ca', \"n't\", 'get', 'work', 'does', \"n't\", 'feel', 'very', 'original', 'to', 'me', '.', 'Nor', 'does', 'the', 'development', 'of', 'the', 'cop', '.', 'It', 'feels', 'like', 'one', 'of', 'many', 'straight-to-video', 'movies', 'I', 'saw', 'back', 'in', 'the', '90s', '...', 'And', 'not', 'even', 'a', 'good', 'one', 'in', 'those', 'standards.', '<', 'br', '/', '>', '<', 'br', '/', '>']\n",
      "170\n"
     ]
    }
   ],
   "source": [
    "w = word_tokenize(raw_text)\n",
    "print(w)\n",
    "print(len(w))"
   ]
  },
  {
   "cell_type": "code",
   "execution_count": 11,
   "id": "db983456-34fb-4736-aabd-afa54c0891b4",
   "metadata": {},
   "outputs": [],
   "source": [
    "## use RegEx Module\n",
    "import re"
   ]
  },
  {
   "cell_type": "code",
   "execution_count": 12,
   "id": "68b98e7e-918e-4a66-aeb9-a86e1dc8fd89",
   "metadata": {},
   "outputs": [
    {
     "data": {
      "text/plain": [
       "\"This was the worst movie I saw at WorldFest and it also received the least amount of applause afterwards! I can only think it is receiving such recognition based on the amount of known actors in the film. It is great to see J.Beals but she is only in the movie for a few minutes. M.Parker is a much better actress than the part allowed for. The rest of the acting is hard to judge because the movie is so ridiculous and predictable. The main character is totally unsympathetic and therefore a bore to watch. There is no real emotional depth to the story. A movie revolving about an actor who can't get work doesn't feel very original to me. Nor does the development of the cop. It feels like one of many straight-to-video movies I saw back in the 90s ... And not even a good one in those standards.<br /><br />\""
      ]
     },
     "execution_count": 12,
     "metadata": {},
     "output_type": "execute_result"
    }
   ],
   "source": [
    "# Substitute 's with \" is\" \n",
    "text = re.sub(r\"'s\\b\", \" is\",raw_text)\n",
    "text"
   ]
  },
  {
   "cell_type": "code",
   "execution_count": 13,
   "id": "aac65285-2357-462b-9dc7-bc54e0fd25f5",
   "metadata": {},
   "outputs": [
    {
     "name": "stdout",
     "output_type": "stream",
     "text": [
      "This was the worst movie I saw at WorldFest and it also received the least amount of applause afterwards! I can only think it is receiving such recognition based on the amount of known actors in the film. It is great to see J.Beals but she is only in the movie for a few minutes. M.Parker is a much better actress than the part allowed for. The rest of the acting is hard to judge because the movie is so ridiculous and predictable. The main character is totally unsympathetic and therefore a bore to watch. There is no real emotional depth to the story. A movie revolving about an actor who can't get work doesn't feel very original to me. Nor does the development of the cop. It feels like one of many straight-to-video movies I saw back in the 90s ... And not even a good one in those standards.<br /><br />\n"
     ]
    }
   ],
   "source": [
    "# Removing the user mentions\n",
    "text=re.sub(\"@[A-Za-z0-9]+\", \"\",text )\n",
    "print(text)"
   ]
  },
  {
   "cell_type": "code",
   "execution_count": 14,
   "id": "1922c90c-3a97-4e28-8b98-b4fc73ba7aa2",
   "metadata": {},
   "outputs": [
    {
     "name": "stdout",
     "output_type": "stream",
     "text": [
      "This was the worst movie I saw at WorldFest and it also received the least amount of applause afterwards! I can only think it is receiving such recognition based on the amount of known actors in the film. It is great to see J.Beals but she is only in the movie for a few minutes. M.Parker is a much better actress than the part allowed for. The rest of the acting is hard to judge because the movie is so ridiculous and predictable. The main character is totally unsympathetic and therefore a bore to watch. There is no real emotional depth to the story. A movie revolving about an actor who can't get work doesn't feel very original to me. Nor does the development of the cop. It feels like one of many straight-to-video movies I saw back in the 90s  And not even a good one in those standards.<br /><br />\n"
     ]
    }
   ],
   "source": [
    "# Removing (...)\n",
    "text = re.sub(r\"\\.\\.\\.\", \"\",text)\n",
    "print(text)"
   ]
  },
  {
   "cell_type": "code",
   "execution_count": 15,
   "id": "bef67af7-821a-490e-90f7-710ed68265d0",
   "metadata": {},
   "outputs": [
    {
     "name": "stdout",
     "output_type": "stream",
     "text": [
      "This was the worst movie I saw at WorldFest and it also received the least amount of applause afterwards! I can only think it is receiving such recognition based on the amount of known actors in the film. It is great to see J.Beals but she is only in the movie for a few minutes. M.Parker is a much better actress than the part allowed for. The rest of the acting is hard to judge because the movie is so ridiculous and predictable. The main character is totally unsympathetic and therefore a bore to watch. There is no real emotional depth to the story. A movie revolving about an actor who can't get work doesn't feel very original to me. Nor does the development of the cop. It feels like one of many straight-to-video movies I saw back in the 90s  And not even a good one in those standards.\n"
     ]
    }
   ],
   "source": [
    "# Removing (<br /><br />)\n",
    "text=re.sub(r'<br\\s*/?>', '',text)\n",
    "print(text)"
   ]
  },
  {
   "cell_type": "code",
   "execution_count": 16,
   "id": "6e7d24e5-be2b-4da2-a9b3-5826ed57bb3c",
   "metadata": {},
   "outputs": [
    {
     "data": {
      "text/plain": [
       "\"This was the worst movie I saw at WorldFest and it also received the least amount of applause afterwards I can only think it is receiving such recognition based on the amount of known actors in the film. It is great to see J.Beals but she is only in the movie for a few minutes. M.Parker is a much better actress than the part allowed for. The rest of the acting is hard to judge because the movie is so ridiculous and predictable. The main character is totally unsympathetic and therefore a bore to watch. There is no real emotional depth to the story. A movie revolving about an actor who can't get work doesn't feel very original to me. Nor does the development of the cop. It feels like one of many straight-to-video movies I saw back in the 90s  And not even a good one in those standards.\""
      ]
     },
     "execution_count": 16,
     "metadata": {},
     "output_type": "execute_result"
    }
   ],
   "source": [
    "# not use this for removing punctuation marks\n",
    "# text=re.sub(r'[^\\w\\s]', '',text)\n",
    "# use this \n",
    "text=re.sub(r'\\!', '',text)\n",
    "text"
   ]
  },
  {
   "cell_type": "code",
   "execution_count": 17,
   "id": "abbf8d2e-7a39-49a4-8115-ac3dbb8b10c8",
   "metadata": {},
   "outputs": [
    {
     "data": {
      "text/plain": [
       "\"This was the worst movie I saw at WorldFest and it also received the least amount of applause afterwards I can only think it is receiving such recognition based on the amount of known actors in the film It is great to see JBeals but she is only in the movie for a few minutes MParker is a much better actress than the part allowed for The rest of the acting is hard to judge because the movie is so ridiculous and predictable The main character is totally unsympathetic and therefore a bore to watch There is no real emotional depth to the story A movie revolving about an actor who can't get work doesn't feel very original to me Nor does the development of the cop It feels like one of many straight-to-video movies I saw back in the   And not even a good one in those standards\""
      ]
     },
     "execution_count": 17,
     "metadata": {},
     "output_type": "execute_result"
    }
   ],
   "source": [
    "# Removing all words strated with [0-9] and end with alphabet\n",
    "text = re.sub(r'\\b\\d+[a-zA-Z]+\\b|\\.', '', text)\n",
    "text"
   ]
  },
  {
   "cell_type": "code",
   "execution_count": 18,
   "id": "bf9e84c9-6427-4558-8999-4dca1315f7bc",
   "metadata": {},
   "outputs": [
    {
     "data": {
      "text/plain": [
       "\"This was the worst movie I saw at WorldFest and it also received the least amount of applause afterwards I can only think it is receiving such recognition based on the amount of known actors in the film It is great to see JBeals but she is only in the movie for a few minutes MParker is a much better actress than the part allowed for The rest of the acting is hard to judge because the movie is so ridiculous and predictable The main character is totally unsympathetic and therefore a bore to watch There is no real emotional depth to the story A movie revolving about an actor who can't get work doesn't feel very original to me Nor does the development of the cop It feels like one of many straight-to-video movies I saw back in the   And not even a good one in those standards\""
      ]
     },
     "execution_count": 18,
     "metadata": {},
     "output_type": "execute_result"
    }
   ],
   "source": [
    "# Removing all words strated with [0-9]\n",
    "text = re.sub(r'\\b\\d+\\b', '', text)\n",
    "text"
   ]
  },
  {
   "cell_type": "code",
   "execution_count": 19,
   "id": "3fd80a85-2830-4766-8643-174e0a3b6283",
   "metadata": {},
   "outputs": [
    {
     "name": "stdout",
     "output_type": "stream",
     "text": [
      "This show was an amazing, fresh & innovative idea in the 70's when it first aired. The first 7 or 8 years were brilliant, but things dropped off after that. By 1990, the show was not really funny anymore, and it's continued its decline further to the complete waste of time it is today.<br /><br />It's truly disgraceful how far this show has fallen. The writing is painfully bad, the performances are almost as bad - if not for the mildly entertaining respite of the guest-hosts, this show probably wouldn't still be on the air. I find it so hard to believe that the same creator that hand-selected the original cast also chose the band of hacks that followed. How can one recognize such brilliance and then see fit to replace it with such mediocrity? I felt I must give 2 stars out of respect for the original cast that made this show such a huge success. As it is now, the show is just awful. I can't believe it's still on the air.\n",
      "This show was an amazing, fresh & innovative idea in the 's when it first aired. The first  or  years were brilliant, but things dropped off after that. By , the show was not really funny anymore, and it's continued its decline further to the complete waste of time it is today.<br /><br />It's truly disgraceful how far this show has fallen. The writing is painfully bad, the performances are almost as bad - if not for the mildly entertaining respite of the guest-hosts, this show probably wouldn't still be on the air. I find it so hard to believe that the same creator that hand-selected the original cast also chose the band of hacks that followed. How can one recognize such brilliance and then see fit to replace it with such mediocrity? I felt I must give  stars out of respect for the original cast that made this show such a huge success. As it is now, the show is just awful. I can't believe it's still on the air.\n"
     ]
    }
   ],
   "source": [
    "# use above as combine\n",
    "text2=Movie_df1[\"review\"][7]\n",
    "print(text2)\n",
    "\n",
    "text2= re.sub(r'\\b\\d+[a-zA-Z]+\\b|\\b\\d+\\b', '', text2)\n",
    "print(text2)"
   ]
  },
  {
   "cell_type": "code",
   "execution_count": 20,
   "id": "c880e33d-69cb-441d-8500-79a72c95b102",
   "metadata": {},
   "outputs": [
    {
     "name": "stdout",
     "output_type": "stream",
     "text": [
      "This was the worst movie I saw at WorldFest and it also received the least amount of applause afterwards I can only think it is receiving such recognition based on the amount of known actors in the film It is great to see JBeals but she is only in the movie for a few minutes MParker is a much better actress than the part allowed for The rest of the acting is hard to judge because the movie is so ridiculous and predictable The main character is totally unsympathetic and therefore a bore to watch There is no real emotional depth to the story A movie revolving about an actor who can't get work doesn't feel very original to me Nor does the development of the cop It feels like one of many straight-to-video movies I saw back in the And not even a good one in those standards\n"
     ]
    }
   ],
   "source": [
    "# Remove extra whitespace characters and replace them with a single space\n",
    "cleaned_text = re.sub(r'\\s+', ' ', text)\n",
    "print(cleaned_text)"
   ]
  },
  {
   "cell_type": "code",
   "execution_count": 21,
   "id": "815c7baf-fb68-4c17-9abb-353f64767ec1",
   "metadata": {},
   "outputs": [
    {
     "data": {
      "text/plain": [
       "151"
      ]
     },
     "execution_count": 21,
     "metadata": {},
     "output_type": "execute_result"
    }
   ],
   "source": [
    "word_after_clean = word_tokenize(cleaned_text)\n",
    "len(word_after_clean)"
   ]
  },
  {
   "cell_type": "markdown",
   "id": "df4393b5-3228-49e5-832b-113a416a713d",
   "metadata": {},
   "source": [
    "#### REMOVE STOPWORDS"
   ]
  },
  {
   "cell_type": "code",
   "execution_count": 22,
   "id": "6b1ecae7-71b2-4196-8770-f9232fad7980",
   "metadata": {},
   "outputs": [],
   "source": [
    "# Remove stopwords\n",
    "import nltk\n",
    "from nltk.corpus import stopwords"
   ]
  },
  {
   "cell_type": "code",
   "execution_count": 23,
   "id": "c5f3aa41-e0a1-4353-b51a-75f064330600",
   "metadata": {},
   "outputs": [
    {
     "name": "stderr",
     "output_type": "stream",
     "text": [
      "[nltk_data] Error loading stopwords: <urlopen error [Errno 11001]\n",
      "[nltk_data]     getaddrinfo failed>\n"
     ]
    },
    {
     "data": {
      "text/plain": [
       "{'a',\n",
       " 'about',\n",
       " 'above',\n",
       " 'after',\n",
       " 'again',\n",
       " 'against',\n",
       " 'ain',\n",
       " 'all',\n",
       " 'am',\n",
       " 'an',\n",
       " 'and',\n",
       " 'any',\n",
       " 'are',\n",
       " 'aren',\n",
       " \"aren't\",\n",
       " 'as',\n",
       " 'at',\n",
       " 'be',\n",
       " 'because',\n",
       " 'been',\n",
       " 'before',\n",
       " 'being',\n",
       " 'below',\n",
       " 'between',\n",
       " 'both',\n",
       " 'but',\n",
       " 'by',\n",
       " 'can',\n",
       " 'couldn',\n",
       " \"couldn't\",\n",
       " 'd',\n",
       " 'did',\n",
       " 'didn',\n",
       " \"didn't\",\n",
       " 'do',\n",
       " 'does',\n",
       " 'doesn',\n",
       " \"doesn't\",\n",
       " 'doing',\n",
       " 'don',\n",
       " \"don't\",\n",
       " 'down',\n",
       " 'during',\n",
       " 'each',\n",
       " 'few',\n",
       " 'for',\n",
       " 'from',\n",
       " 'further',\n",
       " 'had',\n",
       " 'hadn',\n",
       " \"hadn't\",\n",
       " 'has',\n",
       " 'hasn',\n",
       " \"hasn't\",\n",
       " 'have',\n",
       " 'haven',\n",
       " \"haven't\",\n",
       " 'having',\n",
       " 'he',\n",
       " 'her',\n",
       " 'here',\n",
       " 'hers',\n",
       " 'herself',\n",
       " 'him',\n",
       " 'himself',\n",
       " 'his',\n",
       " 'how',\n",
       " 'i',\n",
       " 'if',\n",
       " 'in',\n",
       " 'into',\n",
       " 'is',\n",
       " 'isn',\n",
       " \"isn't\",\n",
       " 'it',\n",
       " \"it's\",\n",
       " 'its',\n",
       " 'itself',\n",
       " 'just',\n",
       " 'll',\n",
       " 'm',\n",
       " 'ma',\n",
       " 'me',\n",
       " 'mightn',\n",
       " \"mightn't\",\n",
       " 'more',\n",
       " 'most',\n",
       " 'mustn',\n",
       " \"mustn't\",\n",
       " 'my',\n",
       " 'myself',\n",
       " 'needn',\n",
       " \"needn't\",\n",
       " 'no',\n",
       " 'nor',\n",
       " 'not',\n",
       " 'now',\n",
       " 'o',\n",
       " 'of',\n",
       " 'off',\n",
       " 'on',\n",
       " 'once',\n",
       " 'only',\n",
       " 'or',\n",
       " 'other',\n",
       " 'our',\n",
       " 'ours',\n",
       " 'ourselves',\n",
       " 'out',\n",
       " 'over',\n",
       " 'own',\n",
       " 're',\n",
       " 's',\n",
       " 'same',\n",
       " 'shan',\n",
       " \"shan't\",\n",
       " 'she',\n",
       " \"she's\",\n",
       " 'should',\n",
       " \"should've\",\n",
       " 'shouldn',\n",
       " \"shouldn't\",\n",
       " 'so',\n",
       " 'some',\n",
       " 'such',\n",
       " 't',\n",
       " 'than',\n",
       " 'that',\n",
       " \"that'll\",\n",
       " 'the',\n",
       " 'their',\n",
       " 'theirs',\n",
       " 'them',\n",
       " 'themselves',\n",
       " 'then',\n",
       " 'there',\n",
       " 'these',\n",
       " 'they',\n",
       " 'this',\n",
       " 'those',\n",
       " 'through',\n",
       " 'to',\n",
       " 'too',\n",
       " 'under',\n",
       " 'until',\n",
       " 'up',\n",
       " 've',\n",
       " 'very',\n",
       " 'was',\n",
       " 'wasn',\n",
       " \"wasn't\",\n",
       " 'we',\n",
       " 'were',\n",
       " 'weren',\n",
       " \"weren't\",\n",
       " 'what',\n",
       " 'when',\n",
       " 'where',\n",
       " 'which',\n",
       " 'while',\n",
       " 'who',\n",
       " 'whom',\n",
       " 'why',\n",
       " 'will',\n",
       " 'with',\n",
       " 'won',\n",
       " \"won't\",\n",
       " 'wouldn',\n",
       " \"wouldn't\",\n",
       " 'y',\n",
       " 'you',\n",
       " \"you'd\",\n",
       " \"you'll\",\n",
       " \"you're\",\n",
       " \"you've\",\n",
       " 'your',\n",
       " 'yours',\n",
       " 'yourself',\n",
       " 'yourselves'}"
      ]
     },
     "execution_count": 23,
     "metadata": {},
     "output_type": "execute_result"
    }
   ],
   "source": [
    "nltk.download(\"stopwords\")\n",
    "stop_words=set(stopwords.words('english'))\n",
    "stop_words"
   ]
  },
  {
   "cell_type": "code",
   "execution_count": 24,
   "id": "e8a9ae12-36a3-46a5-b87c-fb6f8d6f6a1f",
   "metadata": {},
   "outputs": [
    {
     "name": "stdout",
     "output_type": "stream",
     "text": [
      "['This', 'worst', 'movie', 'I', 'saw', 'WorldFest', 'also', 'received', 'least', 'amount', 'applause', 'afterwards', 'I', 'think', 'receiving', 'recognition', 'based', 'amount', 'known', 'actors', 'film', 'It', 'great', 'see', 'JBeals', 'movie', 'minutes', 'MParker', 'much', 'better', 'actress', 'part', 'allowed', 'The', 'rest', 'acting', 'hard', 'judge', 'movie', 'ridiculous', 'predictable', 'The', 'main', 'character', 'totally', 'unsympathetic', 'therefore', 'bore', 'watch', 'There', 'real', 'emotional', 'depth', 'story', 'A', 'movie', 'revolving', 'actor', 'ca', \"n't\", 'get', 'work', \"n't\", 'feel', 'original', 'Nor', 'development', 'cop', 'It', 'feels', 'like', 'one', 'many', 'straight-to-video', 'movies', 'I', 'saw', 'back', 'And', 'even', 'good', 'one', 'standards']\n",
      "83\n"
     ]
    }
   ],
   "source": [
    "filtered_text=[ ]\n",
    "for word in word_after_clean :\n",
    "    if word not in stop_words:\n",
    "     filtered_text.append(word)\n",
    "print(filtered_text)\n",
    "print(len(filtered_text))"
   ]
  },
  {
   "cell_type": "code",
   "execution_count": 25,
   "id": "0af95950-06fc-4cd2-b171-d2c11fc90cbb",
   "metadata": {},
   "outputs": [
    {
     "name": "stdout",
     "output_type": "stream",
     "text": [
      "{'without', 'already', 'only', 'thereafter', 'an', 'once', 'but', 'give', 'seemed', 'although', 'own', 'thru', 'describe', 'else', 'herself', 'us', 'ourselves', 'everything', 'that', 'became', 'her', 'at', 'thus', 'elsewhere', 'beyond', 'twenty', 'ten', 'every', 'me', 'then', 'front', 'as', 'several', 'himself', 'and', 'un', 'his', 'whose', 'any', 'are', 'most', 'our', 'yourself', 'whom', 'herein', 'still', 'how', 'mill', 'thence', 'twelve', 'co', 'is', 'con', 'ltd', 'part', 'nowhere', 'such', 'whereafter', 'therefore', 'who', 'hereupon', 'first', 'whence', 'sincere', 'during', 'will', 'he', 'ie', 'whoever', 'also', 'last', 'indeed', 'be', 'thereby', 'whatever', 'latter', 'alone', 'whereby', 'found', 'have', 'please', 'wherein', 'full', 'it', 'there', 'fifty', 'moreover', 'serious', 'along', 'if', 'anyhow', 'latterly', 'often', 'thin', 'side', 'due', 'de', 'though', 'everyone', 'why', 'take', 'more', 'made', 'here', 'amongst', 'under', 'sometime', 'around', 'rather', 'behind', 'becomes', 'keep', 'four', 'bottom', 'however', 'has', 'she', 'someone', 'throughout', 'whereupon', 'after', 'when', 'what', 'least', 'they', 'inc', 'above', 'etc', 'becoming', 'see', 'again', 'him', 'now', 'hundred', 'was', 'mine', 'amoungst', 'somewhere', 'per', 'their', 'do', 'were', 'fire', 'over', 'cant', 'hereby', 'name', 'formerly', 'we', 'empty', 'into', 'no', 'others', 'put', 'system', 'whereas', 'via', 'find', 'being', 'done', 'so', 'ever', 'very', 'upon', 'eight', 'fifteen', 'everywhere', 'too', 'hence', 'its', 'noone', 'hers', 'anywhere', 'few', 'anyone', 'whole', 'seems', 'or', 'otherwise', 'would', 'below', 'show', 'while', 'wherever', 'had', 'get', 'nevertheless', 'detail', 'less', 'eleven', 'somehow', 'seeming', 'all', 'amount', 'where', 'among', 'this', 'together', 'for', 'toward', 'your', 'on', 'nor', 'whither', 'fill', 'been', 'another', 'might', 'down', 'which', 'interest', 'sixty', 'afterwards', 'almost', 'nine', 'something', 'six', 'out', 'three', 'i', 'must', 'you', 'two', 'same', 'therein', 'cry', 'each', 'in', 'except', 'become', 'the', 'besides', 'can', 'whenever', 'thick', 'perhaps', 'could', 'couldnt', 'them', 'until', 'since', 'back', 'before', 'eg', 'across', 'not', 'third', 'much', 'always', 'am', 'about', 'none', 'call', 'other', 'anything', 'than', 'yet', 'against', 'one', 'next', 'further', 'those', 'many', 'onto', 'well', 'both', 'yours', 'a', 'because', 'hasnt', 'top', 'whether', 'myself', 'mostly', 'may', 'thereupon', 'move', 'themselves', 'either', 'forty', 'go', 'beside', 'ours', 'with', 'towards', 'between', 'some', 'hereafter', 'within', 'even', 'five', 'seem', 'nothing', 'yourselves', 'never', 'cannot', 'beforehand', 'enough', 'of', 'to', 'bill', 'through', 're', 'off', 'meanwhile', 'from', 'my', 'should', 'by', 'these', 'former', 'nobody', 'neither', 'up', 'anyway', 'sometimes', 'namely', 'itself'}\n"
     ]
    }
   ],
   "source": [
    "from sklearn.feature_extraction.text import ENGLISH_STOP_WORDS\n",
    "sklearn_stopwords = set(ENGLISH_STOP_WORDS)\n",
    "print(sklearn_stopwords)"
   ]
  },
  {
   "cell_type": "code",
   "execution_count": 26,
   "id": "819abd19-385e-4bf4-92c9-08809d607c7c",
   "metadata": {},
   "outputs": [
    {
     "name": "stdout",
     "output_type": "stream",
     "text": [
      "{'without', 'already', 'only', \"should've\", 've', 'thereafter', \"hadn't\", 'isn', 'an', 'doing', 'once', 'but', 'hadn', 'give', 'seemed', 'haven', 'although', 'own', 'thru', 'describe', 'else', 'herself', \"wouldn't\", 'us', 'ourselves', 't', 'that', 'everything', \"mightn't\", 'just', 'became', 'her', 'o', 'at', 'thus', \"couldn't\", 'elsewhere', 'beyond', 'twenty', 'ten', 'every', 'me', 'then', 'front', 'as', 'several', 'his', 'and', 'himself', 'un', 'whose', 'does', \"weren't\", 'any', 'are', 'most', 'our', 'yourself', 'whom', 'herein', 'still', 'how', 'mill', 'won', 'thence', 'twelve', 'co', 'is', 'con', 'ltd', 'part', 'nowhere', 'such', 'whereafter', 'y', 'who', 'therefore', 'theirs', 'hereupon', 'll', 'first', 'whence', 'sincere', 'd', 'during', 'will', 'he', \"won't\", 'ie', 'whoever', \"isn't\", 'also', 'last', 'indeed', \"you've\", 'be', \"you'll\", 'thereby', 'whatever', 'latter', 'alone', 'whereby', \"haven't\", 'found', 'have', 'please', 'wherein', \"don't\", 'it', 'full', 'there', 'fifty', 'moreover', \"shan't\", 'serious', 'having', 'along', 'if', 'anyhow', 'wouldn', 'latterly', 'often', 'thin', 'side', 'due', 'de', 'though', 'why', \"didn't\", 'everyone', 'take', 'more', 'made', 'here', 'amongst', 'under', 'sometime', 'ma', 'around', 'rather', 'm', 'behind', \"hasn't\", 'becomes', 'keep', \"mustn't\", 'four', 'bottom', 'however', 'she', 'has', 'someone', 'throughout', 'whereupon', 'after', 'when', 'what', 'least', 'they', 'inc', 'above', 'etc', 'becoming', 'see', 'again', 'him', 'now', 'hundred', 'was', 'mine', 'amoungst', 'somewhere', 'their', 'per', 'were', 'do', 'fire', 'over', 'cant', 'hereby', 'name', 'formerly', 'we', \"she's\", 'empty', 'into', 'no', 'needn', 'others', 'put', 'system', 'whereas', 'via', 'find', 'being', 'so', 'done', 'ever', 'very', 'upon', 'eight', 'fifteen', 'everywhere', 'too', 'hence', \"you're\", 'its', 'noone', 'hers', \"wasn't\", 'anywhere', 'few', 'anyone', 'whole', 'seems', 'or', 'otherwise', 'while', 'below', 'would', 'show', 'wherever', 'had', 'get', 'nevertheless', 'detail', 'ain', 'less', 'eleven', 'somehow', 'seeming', 'mightn', 'all', 'amount', 'where', 'among', 'this', 'together', 'for', 'wasn', 'toward', 'your', 'on', 'nor', \"doesn't\", 'whither', 'fill', 'been', 'another', 'might', 'down', 'which', 'interest', 'sixty', 'afterwards', 'almost', 'nine', 'something', 'out', 'six', 'three', 'i', 'must', 'you', 'two', 'same', 'therein', 'cry', 'doesn', 'each', 'don', 'couldn', 'in', 'shouldn', \"aren't\", 'except', 'become', 'the', 'besides', 'can', 'whenever', 'thick', 'perhaps', 'could', 'couldnt', 'them', 'until', 'since', 'back', 'before', 'eg', 'across', 'not', 'third', 'much', 'always', 'am', 'about', 'other', 'none', \"that'll\", 'call', 'anything', 'than', 'yet', 'against', 'one', 'did', \"it's\", 'next', 'further', 'those', 'many', 'onto', 'well', 'both', 'yours', 'a', 'because', 'hasnt', 'top', 'whether', 'myself', 'mostly', \"needn't\", 'may', 'thereupon', 'move', 'themselves', \"shouldn't\", 'aren', 'either', 'forty', 'go', 'beside', 'ours', 'didn', 'with', 'towards', 'between', 'some', 'hereafter', 'within', 'even', 'five', 'seem', 'nothing', 'yourselves', 'never', 'cannot', 'beforehand', 'enough', 'of', 'to', 'bill', 'through', 're', 'off', 'meanwhile', 'from', 'my', 'hasn', 'should', \"you'd\", 'by', 's', 'these', 'shan', 'former', 'nobody', 'weren', 'neither', 'up', 'anyway', 'sometimes', 'mustn', 'namely', 'itself'}\n"
     ]
    }
   ],
   "source": [
    "combined_stopwords = stop_words.union(sklearn_stopwords)\n",
    "print(combined_stopwords)"
   ]
  },
  {
   "cell_type": "code",
   "execution_count": 27,
   "id": "98630f5b-bf33-41a4-9af5-91450866b727",
   "metadata": {},
   "outputs": [
    {
     "name": "stdout",
     "output_type": "stream",
     "text": [
      "['This', 'worst', 'movie', 'WorldFest', 'received', 'applause', 'think', 'receiving', 'recognition', 'based', 'known', 'actors', 'film', 'great', 'JBeals', 'movie', 'minutes', 'MParker', 'better', 'actress', 'allowed', 'rest', 'acting', 'hard', 'judge', 'movie', 'ridiculous', 'predictable', 'main', 'character', 'totally', 'unsympathetic', 'bore', 'watch', 'There', 'real', 'emotional', 'depth', 'story', 'movie', 'revolving', 'actor', 'work', 'feel', 'original', 'development', 'feels', 'like', 'straight-to-video', 'movies', 'good', 'standards']\n"
     ]
    }
   ],
   "source": [
    "filtered_text2=[ ]\n",
    "for word in word_after_clean:\n",
    "    if word not in combined_stopwords and len(word) > 3 :\n",
    "     filtered_text2.append(word)\n",
    "print(filtered_text2)"
   ]
  },
  {
   "cell_type": "code",
   "execution_count": 28,
   "id": "7263c3cb-0dc1-4c18-a9f4-44f8119e96dd",
   "metadata": {},
   "outputs": [
    {
     "data": {
      "text/plain": [
       "52"
      ]
     },
     "execution_count": 28,
     "metadata": {},
     "output_type": "execute_result"
    }
   ],
   "source": [
    "len(filtered_text2)\n"
   ]
  },
  {
   "cell_type": "code",
   "execution_count": 29,
   "id": "d46fdd58-4567-4144-bb26-a768a004a54c",
   "metadata": {},
   "outputs": [
    {
     "name": "stdout",
     "output_type": "stream",
     "text": [
      "This worst movie WorldFest received applause think receiving recognition based known actors film great JBeals movie minutes MParker better actress allowed rest acting hard judge movie ridiculous predictable main character totally unsympathetic bore watch There real emotional depth story movie revolving actor work feel original development feels like straight-to-video movies good standards\n"
     ]
    }
   ],
   "source": [
    "filtered_text2_str = ' '.join(filtered_text2)\n",
    "print(filtered_text2_str)\n"
   ]
  },
  {
   "cell_type": "code",
   "execution_count": 30,
   "id": "552b9f0f-97ed-4234-a2f1-f41ffb4492e7",
   "metadata": {},
   "outputs": [
    {
     "name": "stdout",
     "output_type": "stream",
     "text": [
      "This was the worst movie I saw at WorldFest and it also received the least amount of applause afterwards! I can only think it is receiving such recognition based on the amount of known actors in the film. It's great to see J.Beals but she's only in the movie for a few minutes. M.Parker is a much better actress than the part allowed for. The rest of the acting is hard to judge because the movie is so ridiculous and predictable. The main character is totally unsympathetic and therefore a bore to watch. There is no real emotional depth to the story. A movie revolving about an actor who can't get work doesn't feel very original to me. Nor does the development of the cop. It feels like one of many straight-to-video movies I saw back in the 90s ... And not even a good one in those standards.<br /><br />\n"
     ]
    }
   ],
   "source": [
    "print(raw_text)\n"
   ]
  },
  {
   "cell_type": "code",
   "execution_count": 31,
   "id": "2f7952e2-d06d-4135-ab92-8cc37b447fb1",
   "metadata": {},
   "outputs": [],
   "source": [
    "# Text Normalization: Stemming or Lemmatization (prefer)\n",
    "from nltk.stem import WordNetLemmatizer\n",
    "lemmatizer = WordNetLemmatizer()"
   ]
  },
  {
   "cell_type": "code",
   "execution_count": 32,
   "id": "52a045fc-b797-4df6-9776-75b25ff501b3",
   "metadata": {},
   "outputs": [
    {
     "name": "stdout",
     "output_type": "stream",
     "text": [
      "['This', 'worst', 'movie', 'WorldFest', 'received', 'applause', 'think', 'receiving', 'recognition', 'based', 'known', 'actor', 'film', 'great', 'JBeals', 'movie', 'minute', 'MParker', 'better', 'actress', 'allowed', 'rest', 'acting', 'hard', 'judge', 'movie', 'ridiculous', 'predictable', 'main', 'character', 'totally', 'unsympathetic', 'bore', 'watch', 'There', 'real', 'emotional', 'depth', 'story', 'movie', 'revolving', 'actor', 'work', 'feel', 'original', 'development', 'feel', 'like', 'straight-to-video', 'movie', 'good', 'standard']\n"
     ]
    }
   ],
   "source": [
    "lemmatized_words = [lemmatizer.lemmatize(word) for word in filtered_text2]\n",
    "print(lemmatized_words)\n"
   ]
  },
  {
   "cell_type": "code",
   "execution_count": 33,
   "id": "c95cae77-1566-4b83-855f-39a3fd4a1352",
   "metadata": {},
   "outputs": [
    {
     "name": "stdout",
     "output_type": "stream",
     "text": [
      "This worst movie WorldFest received applause think receiving recognition based known actor film great JBeals movie minute MParker better actress allowed rest acting hard judge movie ridiculous predictable main character totally unsympathetic bore watch There real emotional depth story movie revolving actor work feel original development feel like straight-to-video movie good standard\n"
     ]
    }
   ],
   "source": [
    "filtered_sentence_after_lammatizing = ' '.join(lemmatized_words)\n",
    "print(filtered_sentence_after_lammatizing )\n"
   ]
  },
  {
   "cell_type": "code",
   "execution_count": 34,
   "id": "4d4e25cc-d8e8-42bc-8be5-3db79d09a06c",
   "metadata": {},
   "outputs": [
    {
     "name": "stdout",
     "output_type": "stream",
     "text": [
      "receive\n"
     ]
    }
   ],
   "source": [
    "print(lemmatizer.lemmatize(\"received\",pos=\"v\"))"
   ]
  },
  {
   "cell_type": "markdown",
   "id": "359d8ac4-1aad-4c15-9f64-d2a79e6112c3",
   "metadata": {},
   "source": [
    "#### CLEANER FUNCTION"
   ]
  },
  {
   "cell_type": "code",
   "execution_count": 35,
   "id": "9a398395-1d4c-42b4-8de3-8fddddab1440",
   "metadata": {},
   "outputs": [
    {
     "name": "stdout",
     "output_type": "stream",
     "text": [
      "Requirement already satisfied: contractions in c:\\users\\acer\\anaconda3\\lib\\site-packages (0.1.73)\n",
      "Requirement already satisfied: textsearch>=0.0.21 in c:\\users\\acer\\anaconda3\\lib\\site-packages (from contractions) (0.0.24)\n",
      "Requirement already satisfied: anyascii in c:\\users\\acer\\anaconda3\\lib\\site-packages (from textsearch>=0.0.21->contractions) (0.3.2)\n",
      "Requirement already satisfied: pyahocorasick in c:\\users\\acer\\anaconda3\\lib\\site-packages (from textsearch>=0.0.21->contractions) (2.1.0)\n"
     ]
    }
   ],
   "source": [
    "!pip install contractions"
   ]
  },
  {
   "cell_type": "code",
   "execution_count": 36,
   "id": "a38f9ba4-c465-4d87-a3ab-9975f51a8b53",
   "metadata": {},
   "outputs": [],
   "source": [
    "import contractions"
   ]
  },
  {
   "cell_type": "code",
   "execution_count": 37,
   "id": "f0a1f9b7-9e8a-4747-9656-8c4e93268698",
   "metadata": {},
   "outputs": [],
   "source": [
    "import re"
   ]
  },
  {
   "cell_type": "code",
   "execution_count": 39,
   "id": "b27e35f6-81a2-44f3-bf23-69925e3fb1ba",
   "metadata": {},
   "outputs": [],
   "source": [
    "from nltk.stem import WordNetLemmatizer\n",
    "\n",
    "def cleaned_review_with_stopwords(x):\n",
    "    lemmatizer = WordNetLemmatizer()\n",
    "    \n",
    "    new_text = re.sub(r\"'s\\b\", \" is\", x)\n",
    "    new_text = re.sub(\"@[A-Za-z0-9]+\", \"\", new_text)\n",
    "    new_text = re.sub(r\"\\.\\.\\.\", \"\", new_text)\n",
    "    new_text = re.sub(r'<br\\s*/?>', '', new_text)\n",
    "    new_text = re.sub(r'\\!|\\.|,', '', new_text)  # Remove commas as well\n",
    "    new_text = re.sub(r'\\b\\d+[a-zA-Z]+\\b|\\b\\d+\\b', '', new_text)\n",
    "    new_text = re.sub(r'\\s+', ' ', new_text)\n",
    "    new_text = contractions.fix(new_text) \n",
    "    new_text = re.sub(r'\\'|\\,', '', new_text)\n",
    "    new_text = new_text.lower().strip()\n",
    "\n",
    "    \n",
    "    new_text1 = [token for token in new_text.split() if len(token) > 3]\n",
    "    \n",
    "    new_cleaned_text = ''\n",
    "    for token in new_text1:\n",
    "        new_cleaned_text += lemmatizer.lemmatize(token) + ' '\n",
    "    \n",
    "    return new_cleaned_text.strip()\n",
    "\n",
    "cleaned_review = []  # list of cleaned tweets\n",
    "for rvw in Movie_df1['review']:\n",
    "    cleaned_review.append(cleaned_review_with_stopwords(rvw))\n"
   ]
  },
  {
   "cell_type": "code",
   "execution_count": 40,
   "id": "d121382b-597a-4974-82be-5004c062fe62",
   "metadata": {},
   "outputs": [
    {
     "data": {
      "text/plain": [
       "'this worst movie worldfest also received least amount applause afterwards only think receiving such recognition based amount known actor film great jbeals only movie minute mparker much better actress than part allowed rest acting hard judge because movie ridiculous predictable main character totally unsympathetic therefore bore watch there real emotional depth story movie revolving about actor cannot work doe feel very original doe development feel like many straight-to-video movie back even good those standard'"
      ]
     },
     "execution_count": 40,
     "metadata": {},
     "output_type": "execute_result"
    }
   ],
   "source": [
    "cleaned_review[24]   "
   ]
  },
  {
   "cell_type": "code",
   "execution_count": 41,
   "id": "2c83e1d7-8125-4910-84be-3fa501fd3b3f",
   "metadata": {},
   "outputs": [],
   "source": [
    "def cleaned_review_without_stopwords(y):\n",
    "    # Substitute 's with is\n",
    "    new_text1 = re.sub(r\"'s\\b\", \" is\",y)\n",
    "    # Remove mentions\n",
    "    new_text1 = re.sub(\"@[A-Za-z0-9]+\", \"\", new_text1)\n",
    "    # Remove ellipsis\n",
    "    new_text1 = re.sub(r\"\\.\\.\\.\", \"\", new_text1)\n",
    "    # Remove <br> tags\n",
    "    new_text1 = re.sub(r'<br\\s*/?>', '', new_text1)\n",
    "    # Remove ! and .\n",
    "    new_text1 = re.sub(r'\\!|\\.', '', new_text1)\n",
    "    # Remove alphanumeric words with digits\n",
    "    new_text1 = re.sub(r'\\b\\d+[a-zA-Z]+\\b|\\b\\d+\\b', '', new_text1)\n",
    "    # Reduce multiple spaces to single space\n",
    "    new_text1 = re.sub(r'\\s+', ' ', new_text1)\n",
    "    # Fix contractions\n",
    "    new_text1 = contractions.fix(new_text1)\n",
    "    # Remove commas\n",
    "    new_text1 = re.sub(r'\\,', '', new_text1)\n",
    "    # Remove single quotes\n",
    "    new_text1 = re.sub(r\"'\", '', new_text1)\n",
    "    # Replace hyphens with space\n",
    "    new_text1 = re.sub(r'-', ' ', new_text1)\n",
    "    # Remove parentheses\n",
    "    new_text1 = re.sub(r'[()]', '', new_text1)\n",
    "    \n",
    "    \n",
    "   \n",
    "    \n",
    "    new_text2 = new_text1.lower().strip()\n",
    "     \n",
    "    new_text2 = [token for token in new_text2.split() if token not in combined_stopwords]\n",
    "    new_text2 = [token for token in new_text2 if len(token) > 3]\n",
    "\n",
    "    new_cleaned_text2 = ''\n",
    "    for token in new_text2:\n",
    "        new_cleaned_text2 = new_cleaned_text2 + lemmatizer.lemmatize(token) + ' '\n",
    "\n",
    "    return new_cleaned_text2\n"
   ]
  },
  {
   "cell_type": "code",
   "execution_count": 42,
   "id": "0e7c0e7d-9f30-4c82-9c25-7d56adc2fd5f",
   "metadata": {},
   "outputs": [],
   "source": [
    "cleaned_review1 = []  # list of cleaned tweets\n",
    "for rvw1 in Movie_df1['review']:\n",
    "    cleaned_review1.append(cleaned_review_without_stopwords(rvw1))"
   ]
  },
  {
   "cell_type": "code",
   "execution_count": 43,
   "id": "69af8e3f-3fe2-4044-a3c0-1a2a60bd7548",
   "metadata": {},
   "outputs": [
    {
     "data": {
      "text/plain": [
       "\"This was the worst movie I saw at WorldFest and it also received the least amount of applause afterwards! I can only think it is receiving such recognition based on the amount of known actors in the film. It's great to see J.Beals but she's only in the movie for a few minutes. M.Parker is a much better actress than the part allowed for. The rest of the acting is hard to judge because the movie is so ridiculous and predictable. The main character is totally unsympathetic and therefore a bore to watch. There is no real emotional depth to the story. A movie revolving about an actor who can't get work doesn't feel very original to me. Nor does the development of the cop. It feels like one of many straight-to-video movies I saw back in the 90s ... And not even a good one in those standards.<br /><br />\""
      ]
     },
     "execution_count": 43,
     "metadata": {},
     "output_type": "execute_result"
    }
   ],
   "source": [
    "Movie_df1[\"review\"][24]"
   ]
  },
  {
   "cell_type": "code",
   "execution_count": 44,
   "id": "640a19d8-fda2-4d4a-b710-f54e3ce13e6b",
   "metadata": {},
   "outputs": [
    {
     "data": {
      "text/plain": [
       "'this worst movie worldfest also received least amount applause afterwards only think receiving such recognition based amount known actor film great jbeals only movie minute mparker much better actress than part allowed rest acting hard judge because movie ridiculous predictable main character totally unsympathetic therefore bore watch there real emotional depth story movie revolving about actor cannot work doe feel very original doe development feel like many straight-to-video movie back even good those standard'"
      ]
     },
     "execution_count": 44,
     "metadata": {},
     "output_type": "execute_result"
    }
   ],
   "source": [
    "cleaned_review[24]    "
   ]
  },
  {
   "cell_type": "code",
   "execution_count": 45,
   "id": "ccffac6c-5e94-4139-b9cf-360e60b09a68",
   "metadata": {},
   "outputs": [
    {
     "data": {
      "text/plain": [
       "'worst movie worldfest received applause think receiving recognition based known actor film great jbeals movie minute mparker better actress allowed rest acting hard judge movie ridiculous predictable main character totally unsympathetic bore watch real emotional depth story movie revolving actor work feel original development feel like straight video movie good standard '"
      ]
     },
     "execution_count": 45,
     "metadata": {},
     "output_type": "execute_result"
    }
   ],
   "source": [
    "cleaned_review1[24]  "
   ]
  },
  {
   "cell_type": "markdown",
   "id": "1f1f1eb7-b324-4b22-918e-4aac9deb89a6",
   "metadata": {},
   "source": [
    "#### Data Visualization"
   ]
  },
  {
   "cell_type": "code",
   "execution_count": 46,
   "id": "5ba1e489-6c7a-4615-991c-3dce06f0e3e8",
   "metadata": {},
   "outputs": [
    {
     "data": {
      "text/plain": [
       "204861"
      ]
     },
     "execution_count": 46,
     "metadata": {},
     "output_type": "execute_result"
    }
   ],
   "source": [
    "# Write a code to collect all the words from all the tweets into a single list\n",
    "all_words = []\n",
    "for t in Movie_df1['review']:\n",
    "    all_words.extend(t.split())\n",
    "\n",
    "len(set(all_words)) # this is the number of unique words in the list"
   ]
  },
  {
   "cell_type": "code",
   "execution_count": 47,
   "id": "ff6988ee-9de6-4fd6-bd91-dfc275ce2714",
   "metadata": {},
   "outputs": [
    {
     "data": {
      "text/plain": [
       "123821"
      ]
     },
     "execution_count": 47,
     "metadata": {},
     "output_type": "execute_result"
    }
   ],
   "source": [
    "all_words1 = []\n",
    "for t in cleaned_review:\n",
    "    all_words1.extend(t.split())\n",
    "\n",
    "len(set(all_words1))"
   ]
  },
  {
   "cell_type": "code",
   "execution_count": 48,
   "id": "29aa54a2-16f3-4113-bce2-ab759578d195",
   "metadata": {},
   "outputs": [
    {
     "data": {
      "text/plain": [
       "100217"
      ]
     },
     "execution_count": 48,
     "metadata": {},
     "output_type": "execute_result"
    }
   ],
   "source": [
    "all_words2 = []\n",
    "for t in cleaned_review1:\n",
    "    all_words2.extend(t.split())\n",
    "    \n",
    "len(set(all_words2))"
   ]
  },
  {
   "cell_type": "code",
   "execution_count": 49,
   "id": "cdf88c15-f703-453a-af5f-e4f132857627",
   "metadata": {},
   "outputs": [],
   "source": [
    "import matplotlib.pyplot as plt"
   ]
  },
  {
   "cell_type": "code",
   "execution_count": 51,
   "id": "ee6e6de7-9b72-4526-98a9-a9ae605babd5",
   "metadata": {},
   "outputs": [
    {
     "data": {
      "image/png": "[encoded data removed]",
      "text/plain": [
       "<Figure size 1200x500 with 1 Axes>"
      ]
     },
     "metadata": {},
     "output_type": "display_data"
    }
   ],
   "source": [
    "# Frequency Distribution\n",
    "freq_dist = nltk.FreqDist(all_words2)\n",
    "\n",
    "plt.figure(figsize=(12,5))\n",
    "plt.title('Top 30 most common words')\n",
    "plt.xticks(fontsize=15)\n",
    "\n",
    "freq_dist.plot(30, cumulative=False)\n",
    "\n",
    "plt.show()"
   ]
  },
  {
   "cell_type": "code",
   "execution_count": 52,
   "id": "daedbca0-8962-4b2e-ac4d-3f7e68595990",
   "metadata": {},
   "outputs": [],
   "source": [
    "domain_stopwords = ['movie', 'film', 'make', 'time', 'think','thing','know','seen','people','life']\n",
    "final_stopwords = domain_stopwords + list(combined_stopwords)"
   ]
  },
  {
   "cell_type": "code",
   "execution_count": 53,
   "id": "26abcbe4-1860-4eb4-b400-c675d63f6ee6",
   "metadata": {},
   "outputs": [
    {
     "name": "stdout",
     "output_type": "stream",
     "text": [
      "Number of unique words after stopwords removal: 100140\n"
     ]
    }
   ],
   "source": [
    "# Normalize case\n",
    "cleaned_review1_lower = [review.lower() for review in cleaned_review1]\n",
    "\n",
    "\n",
    "# Remove stopwords\n",
    "cleaned_review1_final = []\n",
    "for review in cleaned_review1_lower:\n",
    "    words = review.split()\n",
    "    filtered_words = [word for word in words if word not in final_stopwords]\n",
    "    cleaned_review1_final.append(\" \".join(filtered_words))\n",
    "\n",
    "# Count unique words after stopwords removal\n",
    "all_words_cleaned = []\n",
    "for review in cleaned_review1_final:\n",
    "    all_words_cleaned.extend(review.split())\n",
    "\n",
    "print(\"Number of unique words after stopwords removal:\", len(set(all_words_cleaned)))\n"
   ]
  },
  {
   "cell_type": "code",
   "execution_count": 54,
   "id": "f74a6668-bd04-4bb5-b9ff-cef53a8c7cf2",
   "metadata": {},
   "outputs": [
    {
     "data": {
      "image/png": "[encoded data removed]",
      "text/plain": [
       "<Figure size 1200x500 with 1 Axes>"
      ]
     },
     "metadata": {},
     "output_type": "display_data"
    }
   ],
   "source": [
    "# Frequency Distribution\n",
    "freq_dist = nltk.FreqDist(all_words_cleaned)\n",
    "\n",
    "plt.figure(figsize=(12,5))\n",
    "plt.title('Top 10 most common words')\n",
    "plt.xticks(fontsize=15)\n",
    "\n",
    "freq_dist.plot(10, cumulative=False)\n",
    "\n",
    "plt.show()"
   ]
  },
  {
   "cell_type": "code",
   "execution_count": 56,
   "id": "958d560e-ad05-4e35-af5b-efd6e8077170",
   "metadata": {},
   "outputs": [
    {
     "data": {
      "text/html": [
       "<div>\n",
       "<style scoped>\n",
       "    .dataframe tbody tr th:only-of-type {\n",
       "        vertical-align: middle;\n",
       "    }\n",
       "\n",
       "    .dataframe tbody tr th {\n",
       "        vertical-align: top;\n",
       "    }\n",
       "\n",
       "    .dataframe thead th {\n",
       "        text-align: right;\n",
       "    }\n",
       "</style>\n",
       "<table border=\"1\" class=\"dataframe\">\n",
       "  <thead>\n",
       "    <tr style=\"text-align: right;\">\n",
       "      <th></th>\n",
       "      <th>review</th>\n",
       "      <th>sentiment</th>\n",
       "    </tr>\n",
       "  </thead>\n",
       "  <tbody>\n",
       "    <tr>\n",
       "      <th>0</th>\n",
       "      <td>One of the other reviewers has mentioned that after watching just 1 Oz episode you'll be hooked. They are right, as this is exactly what happened with me.&lt;br /&gt;&lt;br /&gt;The first thing that struck me...</td>\n",
       "      <td>1</td>\n",
       "    </tr>\n",
       "    <tr>\n",
       "      <th>1</th>\n",
       "      <td>A wonderful little production. &lt;br /&gt;&lt;br /&gt;The filming technique is very unassuming- very old-time-BBC fashion and gives a comforting, and sometimes discomforting, sense of realism to the entire p...</td>\n",
       "      <td>1</td>\n",
       "    </tr>\n",
       "    <tr>\n",
       "      <th>2</th>\n",
       "      <td>I thought this was a wonderful way to spend time on a too hot summer weekend, sitting in the air conditioned theater and watching a light-hearted comedy. The plot is simplistic, but the dialogue i...</td>\n",
       "      <td>1</td>\n",
       "    </tr>\n",
       "    <tr>\n",
       "      <th>3</th>\n",
       "      <td>Basically there's a family where a little boy (Jake) thinks there's a zombie in his closet &amp; his parents are fighting all the time.&lt;br /&gt;&lt;br /&gt;This movie is slower than a soap opera... and suddenl...</td>\n",
       "      <td>0</td>\n",
       "    </tr>\n",
       "    <tr>\n",
       "      <th>4</th>\n",
       "      <td>Petter Mattei's \"Love in the Time of Money\" is a visually stunning film to watch. Mr. Mattei offers us a vivid portrait about human relations. This is a movie that seems to be telling us what mone...</td>\n",
       "      <td>1</td>\n",
       "    </tr>\n",
       "  </tbody>\n",
       "</table>\n",
       "</div>"
      ],
      "text/plain": [
       "                                                                                                                                                                                                    review  \\\n",
       "0  One of the other reviewers has mentioned that after watching just 1 Oz episode you'll be hooked. They are right, as this is exactly what happened with me.<br /><br />The first thing that struck me...   \n",
       "1  A wonderful little production. <br /><br />The filming technique is very unassuming- very old-time-BBC fashion and gives a comforting, and sometimes discomforting, sense of realism to the entire p...   \n",
       "2  I thought this was a wonderful way to spend time on a too hot summer weekend, sitting in the air conditioned theater and watching a light-hearted comedy. The plot is simplistic, but the dialogue i...   \n",
       "3  Basically there's a family where a little boy (Jake) thinks there's a zombie in his closet & his parents are fighting all the time.<br /><br />This movie is slower than a soap opera... and suddenl...   \n",
       "4  Petter Mattei's \"Love in the Time of Money\" is a visually stunning film to watch. Mr. Mattei offers us a vivid portrait about human relations. This is a movie that seems to be telling us what mone...   \n",
       "\n",
       "   sentiment  \n",
       "0          1  \n",
       "1          1  \n",
       "2          1  \n",
       "3          0  \n",
       "4          1  "
      ]
     },
     "execution_count": 56,
     "metadata": {},
     "output_type": "execute_result"
    }
   ],
   "source": [
    "Movie_df.head()"
   ]
  },
  {
   "cell_type": "code",
   "execution_count": 57,
   "id": "c321398a-b59d-4780-932b-3be9d405d8e3",
   "metadata": {},
   "outputs": [],
   "source": [
    "# Add the lists as new columns\n",
    "Movie_df1['cleaned_review1'] =cleaned_review1\n",
    "Movie_df1['cleaned_review1_final'] =cleaned_review1_final\n",
    "\n",
    "# Save the modified DataFrame back to the CSV file\n",
    "Movie_df1.to_csv('your_modified_csv_file.csv', index=False)\n"
   ]
  },
  {
   "cell_type": "code",
   "execution_count": 58,
   "id": "b4d1366e-ecde-4d8f-8fdf-07ffd6f06f67",
   "metadata": {},
   "outputs": [
    {
     "data": {
      "text/html": [
       "<div>\n",
       "<style scoped>\n",
       "    .dataframe tbody tr th:only-of-type {\n",
       "        vertical-align: middle;\n",
       "    }\n",
       "\n",
       "    .dataframe tbody tr th {\n",
       "        vertical-align: top;\n",
       "    }\n",
       "\n",
       "    .dataframe thead th {\n",
       "        text-align: right;\n",
       "    }\n",
       "</style>\n",
       "<table border=\"1\" class=\"dataframe\">\n",
       "  <thead>\n",
       "    <tr style=\"text-align: right;\">\n",
       "      <th></th>\n",
       "      <th>review</th>\n",
       "      <th>sentiment</th>\n",
       "      <th>cleaned_review1</th>\n",
       "      <th>cleaned_review1_final</th>\n",
       "    </tr>\n",
       "  </thead>\n",
       "  <tbody>\n",
       "    <tr>\n",
       "      <th>0</th>\n",
       "      <td>One of the other reviewers has mentioned that after watching just 1 Oz episode you'll be hooked. They are right, as this is exactly what happened with me.&lt;br /&gt;&lt;br /&gt;The first thing that struck me...</td>\n",
       "      <td>1</td>\n",
       "      <td>reviewer mentioned watching episode hooked right exactly happened methe thing struck brutality unflinching scene violence right word trust faint hearted timid pull punch regard drug violence hardc...</td>\n",
       "      <td>reviewer mentioned watching episode hooked right exactly happened methe struck brutality unflinching scene violence right word trust faint hearted timid pull punch regard drug violence hardcore cl...</td>\n",
       "    </tr>\n",
       "    <tr>\n",
       "      <th>1</th>\n",
       "      <td>A wonderful little production. &lt;br /&gt;&lt;br /&gt;The filming technique is very unassuming- very old-time-BBC fashion and gives a comforting, and sometimes discomforting, sense of realism to the entire p...</td>\n",
       "      <td>1</td>\n",
       "      <td>wonderful little production filming technique unassuming time fashion give comforting discomforting sense realism entire piece actor extremely chosen michael sheen \"has polari\" voice truly seamles...</td>\n",
       "      <td>wonderful little production filming technique unassuming fashion comforting discomforting sense realism entire piece actor extremely chosen michael sheen \"has polari\" voice truly seamless editing ...</td>\n",
       "    </tr>\n",
       "    <tr>\n",
       "      <th>2</th>\n",
       "      <td>I thought this was a wonderful way to spend time on a too hot summer weekend, sitting in the air conditioned theater and watching a light-hearted comedy. The plot is simplistic, but the dialogue i...</td>\n",
       "      <td>1</td>\n",
       "      <td>thought wonderful spend time summer weekend sitting conditioned theater watching light hearted comedy plot simplistic dialogue witty character likable bread suspected serial killer disappointed re...</td>\n",
       "      <td>thought wonderful spend summer weekend sitting conditioned theater watching light hearted comedy plot simplistic dialogue witty character likable bread suspected serial killer disappointed realize...</td>\n",
       "    </tr>\n",
       "    <tr>\n",
       "      <th>3</th>\n",
       "      <td>Basically there's a family where a little boy (Jake) thinks there's a zombie in his closet &amp; his parents are fighting all the time.&lt;br /&gt;&lt;br /&gt;This movie is slower than a soap opera... and suddenl...</td>\n",
       "      <td>0</td>\n",
       "      <td>basically family little jake think zombie closet parent fighting timethis movie slower soap opera suddenly jake decides rambo kill zombieok going make film decide thriller drama drama movie watcha...</td>\n",
       "      <td>basically family little jake zombie closet parent fighting timethis slower soap opera suddenly jake decides rambo kill zombieok going decide thriller drama drama watchable parent divorcing arguing...</td>\n",
       "    </tr>\n",
       "    <tr>\n",
       "      <th>4</th>\n",
       "      <td>Petter Mattei's \"Love in the Time of Money\" is a visually stunning film to watch. Mr. Mattei offers us a vivid portrait about human relations. This is a movie that seems to be telling us what mone...</td>\n",
       "      <td>1</td>\n",
       "      <td>petter mattei \"love time money\" visually stunning film watch mattei offer vivid portrait human relation movie telling money power success people different situation encounter variation arthur schn...</td>\n",
       "      <td>petter mattei \"love money\" visually stunning watch mattei offer vivid portrait human relation telling money power success different situation encounter variation arthur schnitzler play theme direc...</td>\n",
       "    </tr>\n",
       "  </tbody>\n",
       "</table>\n",
       "</div>"
      ],
      "text/plain": [
       "                                                                                                                                                                                                    review  \\\n",
       "0  One of the other reviewers has mentioned that after watching just 1 Oz episode you'll be hooked. They are right, as this is exactly what happened with me.<br /><br />The first thing that struck me...   \n",
       "1  A wonderful little production. <br /><br />The filming technique is very unassuming- very old-time-BBC fashion and gives a comforting, and sometimes discomforting, sense of realism to the entire p...   \n",
       "2  I thought this was a wonderful way to spend time on a too hot summer weekend, sitting in the air conditioned theater and watching a light-hearted comedy. The plot is simplistic, but the dialogue i...   \n",
       "3  Basically there's a family where a little boy (Jake) thinks there's a zombie in his closet & his parents are fighting all the time.<br /><br />This movie is slower than a soap opera... and suddenl...   \n",
       "4  Petter Mattei's \"Love in the Time of Money\" is a visually stunning film to watch. Mr. Mattei offers us a vivid portrait about human relations. This is a movie that seems to be telling us what mone...   \n",
       "\n",
       "   sentiment  \\\n",
       "0          1   \n",
       "1          1   \n",
       "2          1   \n",
       "3          0   \n",
       "4          1   \n",
       "\n",
       "                                                                                                                                                                                           cleaned_review1  \\\n",
       "0  reviewer mentioned watching episode hooked right exactly happened methe thing struck brutality unflinching scene violence right word trust faint hearted timid pull punch regard drug violence hardc...   \n",
       "1  wonderful little production filming technique unassuming time fashion give comforting discomforting sense realism entire piece actor extremely chosen michael sheen \"has polari\" voice truly seamles...   \n",
       "2  thought wonderful spend time summer weekend sitting conditioned theater watching light hearted comedy plot simplistic dialogue witty character likable bread suspected serial killer disappointed re...   \n",
       "3  basically family little jake think zombie closet parent fighting timethis movie slower soap opera suddenly jake decides rambo kill zombieok going make film decide thriller drama drama movie watcha...   \n",
       "4  petter mattei \"love time money\" visually stunning film watch mattei offer vivid portrait human relation movie telling money power success people different situation encounter variation arthur schn...   \n",
       "\n",
       "                                                                                                                                                                                     cleaned_review1_final  \n",
       "0  reviewer mentioned watching episode hooked right exactly happened methe struck brutality unflinching scene violence right word trust faint hearted timid pull punch regard drug violence hardcore cl...  \n",
       "1  wonderful little production filming technique unassuming fashion comforting discomforting sense realism entire piece actor extremely chosen michael sheen \"has polari\" voice truly seamless editing ...  \n",
       "2  thought wonderful spend summer weekend sitting conditioned theater watching light hearted comedy plot simplistic dialogue witty character likable bread suspected serial killer disappointed realize...  \n",
       "3  basically family little jake zombie closet parent fighting timethis slower soap opera suddenly jake decides rambo kill zombieok going decide thriller drama drama watchable parent divorcing arguing...  \n",
       "4  petter mattei \"love money\" visually stunning watch mattei offer vivid portrait human relation telling money power success different situation encounter variation arthur schnitzler play theme direc...  "
      ]
     },
     "execution_count": 58,
     "metadata": {},
     "output_type": "execute_result"
    }
   ],
   "source": [
    "Movie_df1.head()"
   ]
  },
  {
   "cell_type": "markdown",
   "id": "dbd7c4f5-35d9-4754-a8fc-2ad111a1680b",
   "metadata": {},
   "source": [
    "#### Feature Extraction"
   ]
  },
  {
   "cell_type": "code",
   "execution_count": 59,
   "id": "d89c0b0f-0f7a-4cad-a26d-e08ef7fb9473",
   "metadata": {},
   "outputs": [],
   "source": [
    "from sklearn.feature_extraction.text import CountVectorizer\n",
    "\n",
    "CV = CountVectorizer()\n",
    "CV_features = CV.fit_transform(Movie_df1['cleaned_review1_final'])\n"
   ]
  },
  {
   "cell_type": "code",
   "execution_count": 60,
   "id": "a7f22214-4f6a-456c-9032-6231b64c788f",
   "metadata": {},
   "outputs": [
    {
     "data": {
      "text/plain": [
       "(15000, 80565)"
      ]
     },
     "execution_count": 60,
     "metadata": {},
     "output_type": "execute_result"
    }
   ],
   "source": [
    "CV_features.shape"
   ]
  },
  {
   "cell_type": "code",
   "execution_count": 61,
   "id": "5a55da8f-485c-48b5-b6e7-39d813d898d5",
   "metadata": {},
   "outputs": [
    {
     "data": {
      "text/plain": [
       "<1x80565 sparse matrix of type '<class 'numpy.int64'>'\n",
       "\twith 29 stored elements in Compressed Sparse Row format>"
      ]
     },
     "execution_count": 61,
     "metadata": {},
     "output_type": "execute_result"
    }
   ],
   "source": [
    " CV_features[10]"
   ]
  },
  {
   "cell_type": "code",
   "execution_count": 62,
   "id": "6ab17454-935b-48be-976e-ea4c95f0191b",
   "metadata": {},
   "outputs": [
    {
     "data": {
      "text/plain": [
       "matrix([[0, 0, 0, ..., 0, 0, 0]], dtype=int64)"
      ]
     },
     "execution_count": 62,
     "metadata": {},
     "output_type": "execute_result"
    }
   ],
   "source": [
    "CV_features[10].todense() "
   ]
  },
  {
   "cell_type": "code",
   "execution_count": 63,
   "id": "4d8bc30e-a69d-4c5f-ba7c-be05322394e0",
   "metadata": {},
   "outputs": [],
   "source": [
    "from sklearn.model_selection import train_test_split\n",
    "\n",
    "X_train, X_test, y_train, y_test = train_test_split(CV_features,Movie_df1['sentiment'], test_size=0.25, stratify=Movie_df1['sentiment'], random_state=42)"
   ]
  },
  {
   "cell_type": "code",
   "execution_count": 64,
   "id": "a1b24cd2-ebe9-484f-bb26-710363413d4b",
   "metadata": {},
   "outputs": [
    {
     "name": "stdout",
     "output_type": "stream",
     "text": [
      "0.9992\n",
      "0.8610666666666666\n",
      "Confusion Matrix for Training Data:\n",
      "[[5702    5]\n",
      " [   4 5539]]\n",
      "\n",
      "Confusion Matrix for Testing Data:\n",
      "[[1615  287]\n",
      " [ 234 1614]]\n",
      "\n",
      "Classification Report for Training Data:\n",
      "              precision    recall  f1-score   support\n",
      "\n",
      "           0       1.00      1.00      1.00      5707\n",
      "           1       1.00      1.00      1.00      5543\n",
      "\n",
      "    accuracy                           1.00     11250\n",
      "   macro avg       1.00      1.00      1.00     11250\n",
      "weighted avg       1.00      1.00      1.00     11250\n",
      "\n",
      "\n",
      "Classification Report for Testing Data:\n",
      "              precision    recall  f1-score   support\n",
      "\n",
      "           0       0.87      0.85      0.86      1902\n",
      "           1       0.85      0.87      0.86      1848\n",
      "\n",
      "    accuracy                           0.86      3750\n",
      "   macro avg       0.86      0.86      0.86      3750\n",
      "weighted avg       0.86      0.86      0.86      3750\n",
      "\n"
     ]
    }
   ],
   "source": [
    "from sklearn.linear_model import LogisticRegression\n",
    "from sklearn.metrics import confusion_matrix, classification_report\n",
    "\n",
    "# Initialize Logistic Regression\n",
    "LR = LogisticRegression(solver='liblinear')\n",
    "\n",
    "# Train the model\n",
    "LR.fit(X_train, y_train)\n",
    "\n",
    "# Predict on training and testing data\n",
    "y_train_pred = LR.predict(X_train)\n",
    "y_test_pred = LR.predict(X_test)\n",
    "\n",
    "print(LR.score(X_train, y_train))  # train score)\n",
    "print(LR.score(X_test, y_test))   # test score)  \n",
    "\n",
    "# confusion matrix for training data and testing data\n",
    "print(\"Confusion Matrix for Training Data:\")\n",
    "print(confusion_matrix(y_train, y_train_pred))\n",
    "\n",
    "print(\"\\nConfusion Matrix for Testing Data:\")\n",
    "print(confusion_matrix(y_test, y_test_pred))\n",
    "\n",
    "# classification report for training data and testing data\n",
    "print(\"\\nClassification Report for Training Data:\")\n",
    "print(classification_report(y_train, y_train_pred))\n",
    "\n",
    "print(\"\\nClassification Report for Testing Data:\")\n",
    "print(classification_report(y_test, y_test_pred))\n"
   ]
  },
  {
   "cell_type": "code",
   "execution_count": 65,
   "id": "ead77432-cb7a-45ef-a765-c515f3fa7651",
   "metadata": {},
   "outputs": [
    {
     "name": "stdout",
     "output_type": "stream",
     "text": [
      "Confusion Matrix for Training Data (LR1):\n",
      "[[5145  562]\n",
      " [ 426 5117]]\n",
      "\n",
      "Confusion Matrix for Testing Data (LR1):\n",
      "[[1610  292]\n",
      " [ 226 1622]]\n",
      "\n",
      "Classification Report for Training Data (LR1):\n",
      "              precision    recall  f1-score   support\n",
      "\n",
      "           0       0.92      0.90      0.91      5707\n",
      "           1       0.90      0.92      0.91      5543\n",
      "\n",
      "    accuracy                           0.91     11250\n",
      "   macro avg       0.91      0.91      0.91     11250\n",
      "weighted avg       0.91      0.91      0.91     11250\n",
      "\n",
      "\n",
      "Classification Report for Testing Data (LR1):\n",
      "              precision    recall  f1-score   support\n",
      "\n",
      "           0       0.88      0.85      0.86      1902\n",
      "           1       0.85      0.88      0.86      1848\n",
      "\n",
      "    accuracy                           0.86      3750\n",
      "   macro avg       0.86      0.86      0.86      3750\n",
      "weighted avg       0.86      0.86      0.86      3750\n",
      "\n"
     ]
    }
   ],
   "source": [
    "\n",
    "# Initialize Logistic Regression with L1 regularization\n",
    "LR1 = LogisticRegression(class_weight='balanced', solver='liblinear', penalty='l1', C=0.25)\n",
    "\n",
    "# Train the model\n",
    "LR1.fit(X_train, y_train)\n",
    "\n",
    "# Predict on training and testing data\n",
    "y_train_pred_lr1 = LR1.predict(X_train)\n",
    "y_test_pred_lr1 = LR1.predict(X_test)\n",
    "\n",
    "# Compute and print confusion matrix for training data\n",
    "print(\"Confusion Matrix for Training Data (LR1):\")\n",
    "print(confusion_matrix(y_train, y_train_pred_lr1))\n",
    "\n",
    "# Compute and print confusion matrix for testing data\n",
    "print(\"\\nConfusion Matrix for Testing Data (LR1):\")\n",
    "print(confusion_matrix(y_test, y_test_pred_lr1))\n",
    "\n",
    "# Generate classification report for training data\n",
    "print(\"\\nClassification Report for Training Data (LR1):\")\n",
    "print(classification_report(y_train, y_train_pred_lr1))\n",
    "\n",
    "# Generate classification report for testing data\n",
    "print(\"\\nClassification Report for Testing Data (LR1):\")\n",
    "print(classification_report(y_test, y_test_pred_lr1))\n"
   ]
  },
  {
   "cell_type": "code",
   "execution_count": 66,
   "id": "21b47b8f-e9d0-4f68-890d-d03966aee5e2",
   "metadata": {},
   "outputs": [],
   "source": [
    "X = CV_features\n",
    "y = Movie_df1['sentiment']"
   ]
  },
  {
   "cell_type": "code",
   "execution_count": 67,
   "id": "73e4fd0a-6856-4ca4-88f0-0c6dbcf5fa56",
   "metadata": {},
   "outputs": [],
   "source": [
    "## leT'S Cross-Validate the Logistic Regression Model ?????\n",
    "from sklearn.model_selection import cross_val_score, cross_validate\n",
    "from sklearn.model_selection import StratifiedKFold"
   ]
  },
  {
   "cell_type": "code",
   "execution_count": 68,
   "id": "73c9ea39-aae2-430e-b1f7-e4fa88b0143f",
   "metadata": {},
   "outputs": [],
   "source": [
    "import numpy as np"
   ]
  },
  {
   "cell_type": "code",
   "execution_count": 69,
   "id": "214d5801-84d1-4e41-9347-806a0c6c6b02",
   "metadata": {},
   "outputs": [
    {
     "name": "stdout",
     "output_type": "stream",
     "text": [
      "[0.85133333 0.84633333 0.86233333 0.86166667 0.85366667]\n",
      "85.51 0.61\n"
     ]
    }
   ],
   "source": [
    "## crOSS VALIDATE THE LR1 model\n",
    "\n",
    "LR1 = LogisticRegression(class_weight='balanced', solver='liblinear', penalty='l1', C=0.25)\n",
    "kfold = StratifiedKFold(n_splits=5, shuffle=True, random_state=42)\n",
    "results = cross_val_score(LR1, X, y, cv=kfold, scoring='accuracy')\n",
    "print(results)\n",
    "print(np.round((results.mean())*100, 2), np.round((results.std())*100, 2)) "
   ]
  },
  {
   "cell_type": "code",
   "execution_count": 70,
   "id": "1171e816-c827-4f2a-b34d-cf7c788557e4",
   "metadata": {},
   "outputs": [
    {
     "data": {
      "text/plain": [
       "{'fit_time': array([0.19490385, 0.20763397, 0.20378709, 0.20105648, 0.2218132 ]),\n",
       " 'score_time': array([0.00200272, 0.00311303, 0.0030973 , 0.00301576, 0.00306773]),\n",
       " 'test_score': array([0.852     , 0.84633333, 0.86233333, 0.862     , 0.854     ]),\n",
       " 'train_score': array([0.91641667, 0.91366667, 0.91541667, 0.91066667, 0.91766667])}"
      ]
     },
     "execution_count": 70,
     "metadata": {},
     "output_type": "execute_result"
    }
   ],
   "source": [
    "kfold = StratifiedKFold(n_splits=5, shuffle=True, random_state=42)\n",
    "results = cross_validate(LR1, X, y, cv=kfold, scoring='accuracy', return_train_score=True)\n",
    "results"
   ]
  },
  {
   "cell_type": "code",
   "execution_count": 71,
   "id": "6598ed7e-3172-42c8-b15c-651035595aba",
   "metadata": {},
   "outputs": [
    {
     "name": "stdout",
     "output_type": "stream",
     "text": [
      "[0.91641667 0.91366667 0.91541667 0.91066667 0.91766667]\n",
      "91.48 0.24\n"
     ]
    }
   ],
   "source": [
    "print(results['train_score'])\n",
    "print(np.round((results['train_score'].mean())*100, 2), np.round((results['train_score'].std())*100, 2)) "
   ]
  },
  {
   "cell_type": "code",
   "execution_count": 72,
   "id": "5f3b8bbd-a7ac-435d-b616-8dfb77996543",
   "metadata": {},
   "outputs": [
    {
     "name": "stdout",
     "output_type": "stream",
     "text": [
      "[0.852      0.84633333 0.86233333 0.862      0.854     ]\n",
      "85.53 0.61\n"
     ]
    }
   ],
   "source": [
    "print(results['test_score'])\n",
    "print(np.round((results['test_score'].mean())*100, 2), np.round((results['test_score'].std())*100, 2)) "
   ]
  },
  {
   "cell_type": "code",
   "execution_count": 73,
   "id": "b0e27558-3c85-4d1f-aa23-f2239936028f",
   "metadata": {},
   "outputs": [
    {
     "name": "stdout",
     "output_type": "stream",
     "text": [
      "Fitting 5 folds for each of 39 candidates, totalling 195 fits\n"
     ]
    }
   ],
   "source": [
    "## Hyper parameter tuning of the LR1 model\n",
    "from sklearn.model_selection import GridSearchCV\n",
    "\n",
    "LR1 = LogisticRegression(class_weight='balanced', solver='liblinear', penalty='l1')\n",
    "\n",
    "C_values = np.arange(.10, 4, 0.10) \n",
    "\n",
    "grid = GridSearchCV(estimator=LR1, param_grid={'C': C_values}, cv=kfold, scoring='accuracy', \\\n",
    "                    return_train_score=True, verbose=2, n_jobs=-1)\n",
    "grid_results = grid.fit(X,y)"
   ]
  },
  {
   "cell_type": "code",
   "execution_count": 74,
   "id": "2945b970-d611-4a56-9d6b-217e0daec631",
   "metadata": {},
   "outputs": [
    {
     "data": {
      "text/plain": [
       "({'C': 0.30000000000000004}, 0.8558, 2)"
      ]
     },
     "execution_count": 74,
     "metadata": {},
     "output_type": "execute_result"
    }
   ],
   "source": [
    "grid_results.best_params_, grid_results.best_score_, grid_results.best_index_"
   ]
  },
  {
   "cell_type": "code",
   "execution_count": 75,
   "id": "0966405b-d7cd-41f6-badd-da71c91bcc24",
   "metadata": {},
   "outputs": [
    {
     "data": {
      "text/plain": [
       "85.58"
      ]
     },
     "execution_count": 75,
     "metadata": {},
     "output_type": "execute_result"
    }
   ],
   "source": [
    "grid_results.cv_results_['mean_test_score'][grid_results.best_index_]*100"
   ]
  },
  {
   "cell_type": "code",
   "execution_count": 76,
   "id": "a5aa5c5a-b4d0-4ad4-8df6-f319313c3ab5",
   "metadata": {},
   "outputs": [
    {
     "data": {
      "text/plain": [
       "92.45166666666667"
      ]
     },
     "execution_count": 76,
     "metadata": {},
     "output_type": "execute_result"
    }
   ],
   "source": [
    "grid_results.cv_results_['mean_train_score'][grid_results.best_index_]*100"
   ]
  },
  {
   "cell_type": "code",
   "execution_count": 77,
   "id": "3f1c1394-444d-4ce1-b74e-65e76db4e072",
   "metadata": {},
   "outputs": [
    {
     "data": {
      "text/plain": [
       "[<matplotlib.lines.Line2D at 0x1f8b7d70550>]"
      ]
     },
     "execution_count": 77,
     "metadata": {},
     "output_type": "execute_result"
    },
    {
     "data": {
      "image/png": "[encoded data removed]",
      "text/plain": [
       "<Figure size 640x480 with 1 Axes>"
      ]
     },
     "metadata": {},
     "output_type": "display_data"
    }
   ],
   "source": [
    "plt.plot(grid_results.cv_results_['mean_train_score'] - grid_results.cv_results_['mean_test_score'])"
   ]
  },
  {
   "cell_type": "code",
   "execution_count": 78,
   "id": "c86a997e-2c16-44be-9781-58b5da15727e",
   "metadata": {},
   "outputs": [
    {
     "name": "stdout",
     "output_type": "stream",
     "text": [
      "Fitting 5 folds for each of 78 candidates, totalling 390 fits\n",
      "Best hyperparameters: {'C': 0.1}\n",
      "Best mean test accuracy: 86.61333333333333\n"
     ]
    },
    {
     "data": {
      "image/png": "[encoded data removed]",
      "text/plain": [
       "<Figure size 640x480 with 1 Axes>"
      ]
     },
     "metadata": {},
     "output_type": "display_data"
    },
    {
     "name": "stdout",
     "output_type": "stream",
     "text": [
      "Confusion Matrix:\n",
      "[[7355  254]\n",
      " [ 168 7223]]\n",
      "\n",
      "Classification Report:\n",
      "              precision    recall  f1-score   support\n",
      "\n",
      "           0       0.98      0.97      0.97      7609\n",
      "           1       0.97      0.98      0.97      7391\n",
      "\n",
      "    accuracy                           0.97     15000\n",
      "   macro avg       0.97      0.97      0.97     15000\n",
      "weighted avg       0.97      0.97      0.97     15000\n",
      "\n"
     ]
    }
   ],
   "source": [
    "from sklearn.linear_model import LogisticRegression\n",
    "from sklearn.model_selection import GridSearchCV\n",
    "from sklearn.metrics import confusion_matrix, classification_report\n",
    "import matplotlib.pyplot as plt\n",
    "import numpy as np\n",
    "\n",
    "# Define logistic regression model with L2 regularization\n",
    "LR2 = LogisticRegression(class_weight='balanced', solver='liblinear', penalty='l2')\n",
    "\n",
    "# Define range of hyperparameters to search over\n",
    "C_values = np.arange(0.1, 4, 0.05)\n",
    "\n",
    "# Perform grid search with cross-validation\n",
    "grid = GridSearchCV(estimator=LR2, param_grid={'C': C_values}, cv=kfold, scoring='accuracy', \\\n",
    "                    return_train_score=True, verbose=2, n_jobs=-1)\n",
    "grid_results = grid.fit(X, y)\n",
    "\n",
    "# Print best hyperparameters and corresponding scores\n",
    "print(\"Best hyperparameters:\", grid_results.best_params_)\n",
    "print(\"Best mean test accuracy:\", grid_results.cv_results_['mean_test_score'][grid_results.best_index_] * 100)\n",
    "\n",
    "# Plot the difference between mean training and test scores\n",
    "plt.plot(grid_results.cv_results_['mean_train_score'] - grid_results.cv_results_['mean_test_score'])\n",
    "plt.xlabel('Hyperparameter index')\n",
    "plt.ylabel('Training - Test Score')\n",
    "plt.title('Overfitting Check')\n",
    "plt.show()\n",
    "\n",
    "# Initialize logistic regression model with L2 regularization using the best hyperparameters\n",
    "best_LR2 = LogisticRegression(class_weight='balanced', solver='liblinear', penalty='l2', C=grid_results.best_params_['C'])\n",
    "\n",
    "# Train the model with the entire dataset (X, y)\n",
    "best_LR2.fit(X, y)\n",
    "\n",
    "# Predict on the entire dataset\n",
    "y_pred_LR2 = best_LR2.predict(X)\n",
    "\n",
    "# Compute and print confusion matrix\n",
    "print(\"Confusion Matrix:\")\n",
    "print(confusion_matrix(y, y_pred_LR2))\n",
    "\n",
    "# Generate and print classification report\n",
    "print(\"\\nClassification Report:\")\n",
    "print(classification_report(y, y_pred_LR2))\n"
   ]
  },
  {
   "cell_type": "code",
   "execution_count": 79,
   "id": "3199d721-bc31-44fa-b1c3-c93e13e853ba",
   "metadata": {},
   "outputs": [
    {
     "name": "stdout",
     "output_type": "stream",
     "text": [
      "86.61 0.56\n"
     ]
    }
   ],
   "source": [
    "# Create a pipeline & cross-validate\n",
    "from sklearn.pipeline import make_pipeline, Pipeline\n",
    "\n",
    "X = Movie_df1['cleaned_review1_final']\n",
    "y = Movie_df1['sentiment']\n",
    "\n",
    "CV = CountVectorizer()\n",
    "LR2 = LogisticRegression(class_weight='balanced', solver='liblinear', penalty='l2', C=0.1)\n",
    "\n",
    "CV_pipe = Pipeline([('CV', CV) , ('LR', LR2)] )\n",
    "\n",
    "results = cross_val_score(CV_pipe, X, y, cv=kfold, scoring='accuracy')\n",
    "print(np.round((results.mean())*100, 2), np.round((results.std())*100, 2)) "
   ]
  },
  {
   "cell_type": "markdown",
   "id": "c9685ae2-68d7-493a-b671-0ed415dce2b5",
   "metadata": {},
   "source": [
    "#### Final Result by Using S.V.M"
   ]
  },
  {
   "cell_type": "code",
   "execution_count": 80,
   "id": "115ae822-f4a6-4c96-9d4d-2e2b8bbc9f59",
   "metadata": {},
   "outputs": [],
   "source": [
    "from sklearn.model_selection import train_test_split\n",
    "from sklearn.feature_extraction.text import TfidfVectorizer\n",
    "from sklearn.svm import SVC\n",
    "from sklearn.metrics import classification_report"
   ]
  },
  {
   "cell_type": "code",
   "execution_count": 81,
   "id": "0ca3b413-d04c-498f-8bbf-9e6669522e16",
   "metadata": {},
   "outputs": [],
   "source": [
    "from sklearn.feature_extraction.text import TfidfVectorizer\n",
    "\n",
    "# Initialize TF-IDF vectorizer\n",
    "tfidf_vectorizer = TfidfVectorizer()\n",
    "\n",
    "# Fit and transform the text data\n",
    "X_tfidf = tfidf_vectorizer.fit_transform(Movie_df1['cleaned_review1_final'])\n"
   ]
  },
  {
   "cell_type": "code",
   "execution_count": 82,
   "id": "66435c61-6107-4871-99fc-e118ab339710",
   "metadata": {},
   "outputs": [
    {
     "name": "stdout",
     "output_type": "stream",
     "text": [
      "Confusion Matrix:\n",
      "[[1656  265]\n",
      " [ 221 1608]]\n",
      "              precision    recall  f1-score   support\n",
      "\n",
      "           0       0.88      0.86      0.87      1921\n",
      "           1       0.86      0.88      0.87      1829\n",
      "\n",
      "    accuracy                           0.87      3750\n",
      "   macro avg       0.87      0.87      0.87      3750\n",
      "weighted avg       0.87      0.87      0.87      3750\n",
      "\n"
     ]
    }
   ],
   "source": [
    "\n",
    "\n",
    "# Step 1: Split the Data\n",
    "X_train, X_test, y_train, y_test = train_test_split(X_tfidf, Movie_df1['sentiment'], test_size=0.25, random_state=42)\n",
    "\n",
    "# Step 2: Initialize and Train the SVM Model\n",
    "svm_model = SVC(kernel='linear')  # You can experiment with different kernels\n",
    "svm_model.fit(X_train, y_train)\n",
    "\n",
    "# Step 3: Evaluate the Model\n",
    "y_pred = svm_model.predict(X_test)\n",
    "conf_matrix = confusion_matrix(y_test, y_pred)\n",
    "print(\"Confusion Matrix:\")\n",
    "print(conf_matrix)\n",
    "print(classification_report(y_test, y_pred))\n"
   ]
  }
 ],
 "metadata": {
  "kernelspec": {
   "display_name": "Python 3 (ipykernel)",
   "language": "python",
   "name": "python3"
  },
  "language_info": {
   "codemirror_mode": {
    "name": "ipython",
    "version": 3
   },
   "file_extension": ".py",
   "mimetype": "text/x-python",
   "name": "python",
   "nbconvert_exporter": "python",
   "pygments_lexer": "ipython3",
   "version": "3.11.7"
  }
 },
 "nbformat": 4,
 "nbformat_minor": 5
}
